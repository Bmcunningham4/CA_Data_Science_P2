{
 "cells": [
  {
   "cell_type": "code",
   "execution_count": 11,
   "metadata": {},
   "outputs": [],
   "source": [
    "import pandas as pd\n",
    "import seaborn as sns \n",
    "salary_df = pd.read_csv(\"Salary.csv\")\n",
    "\n",
    "male_df = salary_df[salary_df.Gender == \"Male\"]\n",
    "female_df = salary_df[salary_df.Gender == \"Female\"]\n",
    "\n",
    "#? Data for visualisations!\n",
    "male_20_29_df = male_df[(male_df.Age > 19) & (male_df.Age <  30)].Salary\n",
    "male_30_39_df = male_df[(male_df.Age > 29) & (male_df.Age <  40)].Salary\n",
    "male_40_49_df = male_df[(male_df.Age > 39) & (male_df.Age <  50)].Salary\n",
    "male_50_100_df = male_df[(male_df.Age > 49) & (male_df.Age <  100)].Salary\n",
    "\n",
    "female_20_29_df = female_df[(female_df.Age > 19) & (female_df.Age <  30)].Salary\n",
    "female_30_39_df = female_df[(female_df.Age > 29) & (female_df.Age <  40)].Salary\n",
    "female_40_49_df = female_df[(female_df.Age > 39) & (female_df.Age <  50)].Salary\n",
    "female_50_100_df = female_df[(female_df.Age > 49) & (female_df.Age <  100)].Salary"
   ]
  },
  {
   "cell_type": "code",
   "execution_count": 12,
   "metadata": {},
   "outputs": [
    {
     "ename": "TypeError",
     "evalue": "Data source must be a DataFrame or Mapping, not <class 'pandas.core.series.Series'>.",
     "output_type": "error",
     "traceback": [
      "\u001b[0;31m---------------------------------------------------------------------------\u001b[0m",
      "\u001b[0;31mTypeError\u001b[0m                                 Traceback (most recent call last)",
      "\u001b[1;32m/Users/bencunningham/Documents/GitHub/CodeAcademy_Project_2/age_vis.ipynb Cell 2\u001b[0m line \u001b[0;36m1\n\u001b[1;32m      <a href='vscode-notebook-cell:/Users/bencunningham/Documents/GitHub/CodeAcademy_Project_2/age_vis.ipynb#W1sZmlsZQ%3D%3D?line=0'>1</a>\u001b[0m \u001b[39m#? I think go through all histograms and then all boxplots, all contigency etc.. pump them out while I'm flowing with each!!\u001b[39;00m\n\u001b[1;32m      <a href='vscode-notebook-cell:/Users/bencunningham/Documents/GitHub/CodeAcademy_Project_2/age_vis.ipynb#W1sZmlsZQ%3D%3D?line=1'>2</a>\u001b[0m \n\u001b[1;32m      <a href='vscode-notebook-cell:/Users/bencunningham/Documents/GitHub/CodeAcademy_Project_2/age_vis.ipynb#W1sZmlsZQ%3D%3D?line=2'>3</a>\u001b[0m \u001b[39m#* Side by side boxplots\u001b[39;00m\n\u001b[1;32m      <a href='vscode-notebook-cell:/Users/bencunningham/Documents/GitHub/CodeAcademy_Project_2/age_vis.ipynb#W1sZmlsZQ%3D%3D?line=3'>4</a>\u001b[0m \u001b[39m\"\"\" \u001b[39;00m\n\u001b[1;32m      <a href='vscode-notebook-cell:/Users/bencunningham/Documents/GitHub/CodeAcademy_Project_2/age_vis.ipynb#W1sZmlsZQ%3D%3D?line=4'>5</a>\u001b[0m \u001b[39msns.boxplot(data = df, x = 'column1', y = 'column2')\u001b[39;00m\n\u001b[1;32m      <a href='vscode-notebook-cell:/Users/bencunningham/Documents/GitHub/CodeAcademy_Project_2/age_vis.ipynb#W1sZmlsZQ%3D%3D?line=5'>6</a>\u001b[0m \u001b[39mplt.show()\u001b[39;00m\n\u001b[1;32m      <a href='vscode-notebook-cell:/Users/bencunningham/Documents/GitHub/CodeAcademy_Project_2/age_vis.ipynb#W1sZmlsZQ%3D%3D?line=6'>7</a>\u001b[0m \u001b[39m#todo: Common theme for every bit of plotting always close after show with : (fixes everything)\u001b[39;00m\n\u001b[1;32m      <a href='vscode-notebook-cell:/Users/bencunningham/Documents/GitHub/CodeAcademy_Project_2/age_vis.ipynb#W1sZmlsZQ%3D%3D?line=7'>8</a>\u001b[0m \u001b[39mplt.close() \u001b[39;00m\n\u001b[1;32m      <a href='vscode-notebook-cell:/Users/bencunningham/Documents/GitHub/CodeAcademy_Project_2/age_vis.ipynb#W1sZmlsZQ%3D%3D?line=8'>9</a>\u001b[0m \u001b[39m\"\"\"\u001b[39;00m\n\u001b[0;32m---> <a href='vscode-notebook-cell:/Users/bencunningham/Documents/GitHub/CodeAcademy_Project_2/age_vis.ipynb#W1sZmlsZQ%3D%3D?line=10'>11</a>\u001b[0m sns\u001b[39m.\u001b[39;49mboxplot(data \u001b[39m=\u001b[39;49m male_20_29_df, x \u001b[39m=\u001b[39;49m \u001b[39m\"\u001b[39;49m\u001b[39mcol1\u001b[39;49m\u001b[39m\"\u001b[39;49m, y \u001b[39m=\u001b[39;49m \u001b[39m\"\u001b[39;49m\u001b[39mcol2\u001b[39;49m\u001b[39m\"\u001b[39;49m)\n\u001b[1;32m     <a href='vscode-notebook-cell:/Users/bencunningham/Documents/GitHub/CodeAcademy_Project_2/age_vis.ipynb#W1sZmlsZQ%3D%3D?line=11'>12</a>\u001b[0m plt\u001b[39m.\u001b[39mshow()\n\u001b[1;32m     <a href='vscode-notebook-cell:/Users/bencunningham/Documents/GitHub/CodeAcademy_Project_2/age_vis.ipynb#W1sZmlsZQ%3D%3D?line=12'>13</a>\u001b[0m plt\u001b[39m.\u001b[39mclose()\n",
      "File \u001b[0;32m~/Library/Python/3.9/lib/python/site-packages/seaborn/categorical.py:1582\u001b[0m, in \u001b[0;36mboxplot\u001b[0;34m(data, x, y, hue, order, hue_order, orient, color, palette, saturation, fill, dodge, width, gap, whis, linecolor, linewidth, fliersize, hue_norm, native_scale, log_scale, formatter, legend, ax, **kwargs)\u001b[0m\n\u001b[1;32m   1574\u001b[0m \u001b[39mdef\u001b[39;00m \u001b[39mboxplot\u001b[39m(\n\u001b[1;32m   1575\u001b[0m     data\u001b[39m=\u001b[39m\u001b[39mNone\u001b[39;00m, \u001b[39m*\u001b[39m, x\u001b[39m=\u001b[39m\u001b[39mNone\u001b[39;00m, y\u001b[39m=\u001b[39m\u001b[39mNone\u001b[39;00m, hue\u001b[39m=\u001b[39m\u001b[39mNone\u001b[39;00m, order\u001b[39m=\u001b[39m\u001b[39mNone\u001b[39;00m, hue_order\u001b[39m=\u001b[39m\u001b[39mNone\u001b[39;00m,\n\u001b[1;32m   1576\u001b[0m     orient\u001b[39m=\u001b[39m\u001b[39mNone\u001b[39;00m, color\u001b[39m=\u001b[39m\u001b[39mNone\u001b[39;00m, palette\u001b[39m=\u001b[39m\u001b[39mNone\u001b[39;00m, saturation\u001b[39m=\u001b[39m\u001b[39m.75\u001b[39m, fill\u001b[39m=\u001b[39m\u001b[39mTrue\u001b[39;00m,\n\u001b[0;32m   (...)\u001b[0m\n\u001b[1;32m   1579\u001b[0m     legend\u001b[39m=\u001b[39m\u001b[39m\"\u001b[39m\u001b[39mauto\u001b[39m\u001b[39m\"\u001b[39m, ax\u001b[39m=\u001b[39m\u001b[39mNone\u001b[39;00m, \u001b[39m*\u001b[39m\u001b[39m*\u001b[39mkwargs\n\u001b[1;32m   1580\u001b[0m ):\n\u001b[0;32m-> 1582\u001b[0m     p \u001b[39m=\u001b[39m _CategoricalPlotter(\n\u001b[1;32m   1583\u001b[0m         data\u001b[39m=\u001b[39;49mdata,\n\u001b[1;32m   1584\u001b[0m         variables\u001b[39m=\u001b[39;49m\u001b[39mdict\u001b[39;49m(x\u001b[39m=\u001b[39;49mx, y\u001b[39m=\u001b[39;49my, hue\u001b[39m=\u001b[39;49mhue),\n\u001b[1;32m   1585\u001b[0m         order\u001b[39m=\u001b[39;49morder,\n\u001b[1;32m   1586\u001b[0m         orient\u001b[39m=\u001b[39;49morient,\n\u001b[1;32m   1587\u001b[0m         color\u001b[39m=\u001b[39;49mcolor,\n\u001b[1;32m   1588\u001b[0m         legend\u001b[39m=\u001b[39;49mlegend,\n\u001b[1;32m   1589\u001b[0m     )\n\u001b[1;32m   1591\u001b[0m     \u001b[39mif\u001b[39;00m ax \u001b[39mis\u001b[39;00m \u001b[39mNone\u001b[39;00m:\n\u001b[1;32m   1592\u001b[0m         ax \u001b[39m=\u001b[39m plt\u001b[39m.\u001b[39mgca()\n",
      "File \u001b[0;32m~/Library/Python/3.9/lib/python/site-packages/seaborn/categorical.py:62\u001b[0m, in \u001b[0;36m_CategoricalPlotter.__init__\u001b[0;34m(self, data, variables, order, orient, require_numeric, color, legend)\u001b[0m\n\u001b[1;32m     51\u001b[0m \u001b[39mdef\u001b[39;00m \u001b[39m__init__\u001b[39m(\n\u001b[1;32m     52\u001b[0m     \u001b[39mself\u001b[39m,\n\u001b[1;32m     53\u001b[0m     data\u001b[39m=\u001b[39m\u001b[39mNone\u001b[39;00m,\n\u001b[0;32m   (...)\u001b[0m\n\u001b[1;32m     59\u001b[0m     legend\u001b[39m=\u001b[39m\u001b[39m\"\u001b[39m\u001b[39mauto\u001b[39m\u001b[39m\"\u001b[39m,\n\u001b[1;32m     60\u001b[0m ):\n\u001b[0;32m---> 62\u001b[0m     \u001b[39msuper\u001b[39;49m()\u001b[39m.\u001b[39;49m\u001b[39m__init__\u001b[39;49m(data\u001b[39m=\u001b[39;49mdata, variables\u001b[39m=\u001b[39;49mvariables)\n\u001b[1;32m     64\u001b[0m     \u001b[39m# This method takes care of some bookkeeping that is necessary because the\u001b[39;00m\n\u001b[1;32m     65\u001b[0m     \u001b[39m# original categorical plots (prior to the 2021 refactor) had some rules that\u001b[39;00m\n\u001b[1;32m     66\u001b[0m     \u001b[39m# don't fit exactly into VectorPlotter logic. It may be wise to have a second\u001b[39;00m\n\u001b[0;32m   (...)\u001b[0m\n\u001b[1;32m     71\u001b[0m     \u001b[39m# default VectorPlotter rules. If we do decide to make orient part of the\u001b[39;00m\n\u001b[1;32m     72\u001b[0m     \u001b[39m# _base variable assignment, we'll want to figure out how to express that.\u001b[39;00m\n\u001b[1;32m     73\u001b[0m     \u001b[39mif\u001b[39;00m \u001b[39mself\u001b[39m\u001b[39m.\u001b[39minput_format \u001b[39m==\u001b[39m \u001b[39m\"\u001b[39m\u001b[39mwide\u001b[39m\u001b[39m\"\u001b[39m \u001b[39mand\u001b[39;00m orient \u001b[39min\u001b[39;00m [\u001b[39m\"\u001b[39m\u001b[39mh\u001b[39m\u001b[39m\"\u001b[39m, \u001b[39m\"\u001b[39m\u001b[39my\u001b[39m\u001b[39m\"\u001b[39m]:\n",
      "File \u001b[0;32m~/Library/Python/3.9/lib/python/site-packages/seaborn/_base.py:634\u001b[0m, in \u001b[0;36mVectorPlotter.__init__\u001b[0;34m(self, data, variables)\u001b[0m\n\u001b[1;32m    629\u001b[0m \u001b[39m# var_ordered is relevant only for categorical axis variables, and may\u001b[39;00m\n\u001b[1;32m    630\u001b[0m \u001b[39m# be better handled by an internal axis information object that tracks\u001b[39;00m\n\u001b[1;32m    631\u001b[0m \u001b[39m# such information and is set up by the scale_* methods. The analogous\u001b[39;00m\n\u001b[1;32m    632\u001b[0m \u001b[39m# information for numeric axes would be information about log scales.\u001b[39;00m\n\u001b[1;32m    633\u001b[0m \u001b[39mself\u001b[39m\u001b[39m.\u001b[39m_var_ordered \u001b[39m=\u001b[39m {\u001b[39m\"\u001b[39m\u001b[39mx\u001b[39m\u001b[39m\"\u001b[39m: \u001b[39mFalse\u001b[39;00m, \u001b[39m\"\u001b[39m\u001b[39my\u001b[39m\u001b[39m\"\u001b[39m: \u001b[39mFalse\u001b[39;00m}  \u001b[39m# alt., used DefaultDict\u001b[39;00m\n\u001b[0;32m--> 634\u001b[0m \u001b[39mself\u001b[39;49m\u001b[39m.\u001b[39;49massign_variables(data, variables)\n\u001b[1;32m    636\u001b[0m \u001b[39m# TODO Lots of tests assume that these are called to initialize the\u001b[39;00m\n\u001b[1;32m    637\u001b[0m \u001b[39m# mappings to default values on class initialization. I'd prefer to\u001b[39;00m\n\u001b[1;32m    638\u001b[0m \u001b[39m# move away from that and only have a mapping when explicitly called.\u001b[39;00m\n\u001b[1;32m    639\u001b[0m \u001b[39mfor\u001b[39;00m var \u001b[39min\u001b[39;00m [\u001b[39m\"\u001b[39m\u001b[39mhue\u001b[39m\u001b[39m\"\u001b[39m, \u001b[39m\"\u001b[39m\u001b[39msize\u001b[39m\u001b[39m\"\u001b[39m, \u001b[39m\"\u001b[39m\u001b[39mstyle\u001b[39m\u001b[39m\"\u001b[39m]:\n",
      "File \u001b[0;32m~/Library/Python/3.9/lib/python/site-packages/seaborn/_base.py:679\u001b[0m, in \u001b[0;36mVectorPlotter.assign_variables\u001b[0;34m(self, data, variables)\u001b[0m\n\u001b[1;32m    674\u001b[0m \u001b[39melse\u001b[39;00m:\n\u001b[1;32m    675\u001b[0m     \u001b[39m# When dealing with long-form input, use the newer PlotData\u001b[39;00m\n\u001b[1;32m    676\u001b[0m     \u001b[39m# object (internal but introduced for the objects interface)\u001b[39;00m\n\u001b[1;32m    677\u001b[0m     \u001b[39m# to centralize / standardize data consumption logic.\u001b[39;00m\n\u001b[1;32m    678\u001b[0m     \u001b[39mself\u001b[39m\u001b[39m.\u001b[39minput_format \u001b[39m=\u001b[39m \u001b[39m\"\u001b[39m\u001b[39mlong\u001b[39m\u001b[39m\"\u001b[39m\n\u001b[0;32m--> 679\u001b[0m     plot_data \u001b[39m=\u001b[39m PlotData(data, variables)\n\u001b[1;32m    680\u001b[0m     frame \u001b[39m=\u001b[39m plot_data\u001b[39m.\u001b[39mframe\n\u001b[1;32m    681\u001b[0m     names \u001b[39m=\u001b[39m plot_data\u001b[39m.\u001b[39mnames\n",
      "File \u001b[0;32m~/Library/Python/3.9/lib/python/site-packages/seaborn/_core/data.py:57\u001b[0m, in \u001b[0;36mPlotData.__init__\u001b[0;34m(self, data, variables)\u001b[0m\n\u001b[1;32m     51\u001b[0m \u001b[39mdef\u001b[39;00m \u001b[39m__init__\u001b[39m(\n\u001b[1;32m     52\u001b[0m     \u001b[39mself\u001b[39m,\n\u001b[1;32m     53\u001b[0m     data: DataSource,\n\u001b[1;32m     54\u001b[0m     variables: \u001b[39mdict\u001b[39m[\u001b[39mstr\u001b[39m, VariableSpec],\n\u001b[1;32m     55\u001b[0m ):\n\u001b[0;32m---> 57\u001b[0m     data \u001b[39m=\u001b[39m handle_data_source(data)\n\u001b[1;32m     58\u001b[0m     frame, names, ids \u001b[39m=\u001b[39m \u001b[39mself\u001b[39m\u001b[39m.\u001b[39m_assign_variables(data, variables)\n\u001b[1;32m     60\u001b[0m     \u001b[39mself\u001b[39m\u001b[39m.\u001b[39mframe \u001b[39m=\u001b[39m frame\n",
      "File \u001b[0;32m~/Library/Python/3.9/lib/python/site-packages/seaborn/_core/data.py:278\u001b[0m, in \u001b[0;36mhandle_data_source\u001b[0;34m(data)\u001b[0m\n\u001b[1;32m    276\u001b[0m \u001b[39melif\u001b[39;00m data \u001b[39mis\u001b[39;00m \u001b[39mnot\u001b[39;00m \u001b[39mNone\u001b[39;00m \u001b[39mand\u001b[39;00m \u001b[39mnot\u001b[39;00m \u001b[39misinstance\u001b[39m(data, Mapping):\n\u001b[1;32m    277\u001b[0m     err \u001b[39m=\u001b[39m \u001b[39mf\u001b[39m\u001b[39m\"\u001b[39m\u001b[39mData source must be a DataFrame or Mapping, not \u001b[39m\u001b[39m{\u001b[39;00m\u001b[39mtype\u001b[39m(data)\u001b[39m!r}\u001b[39;00m\u001b[39m.\u001b[39m\u001b[39m\"\u001b[39m\n\u001b[0;32m--> 278\u001b[0m     \u001b[39mraise\u001b[39;00m \u001b[39mTypeError\u001b[39;00m(err)\n\u001b[1;32m    280\u001b[0m \u001b[39mreturn\u001b[39;00m data\n",
      "\u001b[0;31mTypeError\u001b[0m: Data source must be a DataFrame or Mapping, not <class 'pandas.core.series.Series'>."
     ]
    }
   ],
   "source": [
    "\n",
    "#? I think go through all histograms and then all boxplots, all contigency etc.. pump them out while I'm flowing with each!!\n",
    "\n",
    "#* Side by side boxplots\n",
    "\"\"\" \n",
    "sns.boxplot(data = df, x = 'column1', y = 'column2')\n",
    "plt.show()\n",
    "#todo: Common theme for every bit of plotting always close after show with : (fixes everything)\n",
    "plt.close() \n",
    "\"\"\"\n",
    "\n",
    "sns.boxplot(data = male_20_29_df, x = \"col1\", y = \"col2\")\n",
    "plt.show()\n",
    "plt.close()\n",
    "\n",
    "\n",
    "#* Overlapping histogram..\n"
   ]
  }
 ],
 "metadata": {
  "kernelspec": {
   "display_name": "Python 3",
   "language": "python",
   "name": "python3"
  },
  "language_info": {
   "codemirror_mode": {
    "name": "ipython",
    "version": 3
   },
   "file_extension": ".py",
   "mimetype": "text/x-python",
   "name": "python",
   "nbconvert_exporter": "python",
   "pygments_lexer": "ipython3",
   "version": "3.9.6"
  }
 },
 "nbformat": 4,
 "nbformat_minor": 2
}
