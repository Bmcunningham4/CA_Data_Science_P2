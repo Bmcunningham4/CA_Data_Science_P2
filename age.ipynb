{
 "cells": [
  {
   "cell_type": "markdown",
   "metadata": {},
   "source": [
    "##### Plan in here: To get basic age info and then see how salary is affected at diff ages..\n",
    "Eg. find out age range.. and then come up with age categories to work out.. ^^ the next more specific things.."
   ]
  },
  {
   "cell_type": "code",
   "execution_count": 313,
   "metadata": {},
   "outputs": [
    {
     "name": "stdout",
     "output_type": "stream",
     "text": [
      "    Age  Gender  Education Level              Job Title  Years of Experience  \\\n",
      "0  32.0    Male                1      Software Engineer                  5.0   \n",
      "1  28.0  Female                2           Data Analyst                  3.0   \n",
      "2  45.0    Male                3                Manager                 15.0   \n",
      "3  36.0  Female                1        Sales Associate                  7.0   \n",
      "4  52.0    Male                2               Director                 20.0   \n",
      "5  29.0    Male                1      Marketing Analyst                  2.0   \n",
      "6  42.0  Female                2        Product Manager                 12.0   \n",
      "7  31.0    Male                1          Sales Manager                  4.0   \n",
      "8  26.0  Female                1  Marketing Coordinator                  1.0   \n",
      "9  38.0    Male                3              Scientist                 10.0   \n",
      "\n",
      "     Salary    Country        Race  Senior  \n",
      "0   90000.0         UK       White       0  \n",
      "1   65000.0        USA    Hispanic       0  \n",
      "2  150000.0     Canada       White       1  \n",
      "3   60000.0        USA    Hispanic       0  \n",
      "4  200000.0        USA       Asian       0  \n",
      "5   55000.0        USA    Hispanic       0  \n",
      "6  120000.0        USA       Asian       0  \n",
      "7   80000.0      China      Korean       0  \n",
      "8   45000.0      China     Chinese       0  \n",
      "9  110000.0  Australia  Australian       1  \n"
     ]
    }
   ],
   "source": [
    "import pandas as pd\n",
    "from tabulate import tabulate\n",
    "from functions import table_creator\n",
    "salary_df = pd.read_csv(\"Salary.csv\")\n",
    "print(salary_df.head(10)) #? Don't need to display these for all of them just creates unnessecary clutter!!"
   ]
  },
  {
   "cell_type": "code",
   "execution_count": 314,
   "metadata": {},
   "outputs": [
    {
     "name": "stdout",
     "output_type": "stream",
     "text": [
      "2439\n",
      "2811\n",
      "1163\n",
      "259\n",
      "12\n",
      "3013 3671\n"
     ]
    }
   ],
   "source": [
    "# How many in each brother...\n",
    "#? Can't decide whether I need to seperate count for meale and female as well!!\n",
    "age_20_29 = salary_df[(salary_df['Age'] > 19) & (salary_df['Age'] < 30)].Salary.count() #* Can't write inequalities the chill way fam can ya!!\n",
    "age_30_39 = salary_df[(salary_df['Age'] > 29) & (salary_df['Age'] < 40)].Salary.count()\n",
    "age_40_49 = salary_df[(salary_df['Age'] > 39) & (salary_df['Age'] < 50)].Salary.count()\n",
    "age_50_59 = salary_df[(salary_df['Age'] > 49) & (salary_df['Age'] < 60)].Salary.count()\n",
    "age_60_69 = salary_df[(salary_df['Age'] > 59) & (salary_df['Age'] < 70)].Salary.count()\n",
    "\n",
    "#todo: This is the sorta thing that instead of being visualised in stupid print statements I nice little bar graph could be used...\n",
    "print(age_20_29)\n",
    "print(age_30_39)\n",
    "print(age_40_49)\n",
    "print(age_50_59)\n",
    "print(age_60_69) # That's pretty useless so I can probably just call it a 50+ age!\n",
    "\n",
    "#? Just checking total count for each as well and maybe if there's a difference there than I might have to adjust that for ^^ m v f\n",
    "female_total = salary_df[salary_df.Gender == \"Female\"].Salary.count()\n",
    "male_total = salary_df[salary_df.Gender == \"Male\"].Salary.count()\n",
    "print(female_total, male_total) #* Similar enough no need for any drastic changes I don't think sonny boy!!\n",
    "\n"
   ]
  },
  {
   "cell_type": "code",
   "execution_count": 315,
   "metadata": {},
   "outputs": [
    {
     "name": "stdout",
     "output_type": "stream",
     "text": [
      "The min and max male ages are 22.0 & 62.0\n",
      "The min and max female ages are 21.0 & 60.0\n"
     ]
    }
   ],
   "source": [
    "# Let's find that basic info ayyy\n",
    "age_male_min = salary_df[salary_df.Gender == \"Male\"].Age.min()\n",
    "age_male_max = salary_df[salary_df.Gender == \"Male\"].Age.max()\n",
    "age_female_min = salary_df[salary_df.Gender == \"Female\"].Age.min()\n",
    "age_female_max = salary_df[salary_df.Gender == \"Female\"].Age.max()\n",
    "\n",
    "print(f\"The min and max male ages are {age_male_min} & {age_male_max}\")\n",
    "print(f\"The min and max female ages are {age_female_min} & {age_female_max}\")"
   ]
  },
  {
   "cell_type": "code",
   "execution_count": 316,
   "metadata": {},
   "outputs": [
    {
     "name": "stdout",
     "output_type": "stream",
     "text": [
      "     Age Gender  Education Level             Job Title  Years of Experience  \\\n",
      "0   32.0   Male                1     Software Engineer                  5.0   \n",
      "2   45.0   Male                3               Manager                 15.0   \n",
      "4   52.0   Male                2              Director                 20.0   \n",
      "5   29.0   Male                1     Marketing Analyst                  2.0   \n",
      "7   31.0   Male                1         Sales Manager                  4.0   \n",
      "9   38.0   Male                3             Scientist                 10.0   \n",
      "10  29.0   Male                2    Software Developer                  3.0   \n",
      "12  35.0   Male                1     Financial Analyst                  6.0   \n",
      "14  27.0   Male                1  Customer Service Rep                  2.0   \n",
      "15  44.0   Male                1    Operations Manager                 16.0   \n",
      "\n",
      "      Salary    Country        Race  Senior  \n",
      "0    90000.0         UK       White       0  \n",
      "2   150000.0     Canada       White       1  \n",
      "4   200000.0        USA       Asian       0  \n",
      "5    55000.0        USA    Hispanic       0  \n",
      "7    80000.0      China      Korean       0  \n",
      "9   110000.0  Australia  Australian       1  \n",
      "10   75000.0         UK       Welsh       0  \n",
      "12   65000.0      China      Korean       0  \n",
      "14   40000.0     Canada       Asian       0  \n",
      "15  125000.0      China     Chinese       0  \n"
     ]
    }
   ],
   "source": [
    "# Lets find the male v female salary's: mean, median, range and std for all diff age ranges!!\n",
    "#? Would it be easier if I had a male and female dataframe? to use probably...\n",
    "#! Everyone take note of what's happening here!!\n",
    "male_df = salary_df[salary_df.Gender == \"Male\"]\n",
    "female_df = salary_df[salary_df.Gender == \"Female\"]\n",
    "print(male_df.head(10)) #* How bloody fucking good heyy\n"
   ]
  },
  {
   "cell_type": "code",
   "execution_count": 317,
   "metadata": {},
   "outputs": [
    {
     "name": "stdout",
     "output_type": "stream",
     "text": [
      "74294.76 69921.98\n"
     ]
    }
   ],
   "source": [
    "# Now let's find mean and median for each age range in both df's!!!\n",
    "age_20_29 = salary_df[(salary_df['Age'] > 19) & (salary_df['Age'] < 30)].Salary.count() #* Can't write inequalities the chill way fam can ya!!\n",
    "male_20_29_mean = round(male_df[(male_df.Age > 19) & (male_df.Age <  30)].Salary.mean(), 2)\n",
    "male_30_39_mean = round(male_df[(male_df.Age > 29) & (male_df.Age <  40)].Salary.mean(), 2)\n",
    "male_40_49_mean = round(male_df[(male_df.Age > 39) & (male_df.Age <  50)].Salary.mean(), 2)\n",
    "male_50_100_mean = round(male_df[(male_df.Age > 49) & (male_df.Age <  100)].Salary.mean(), 2)\n",
    "\n",
    "female_20_29_mean = round(female_df[(female_df.Age > 19) & (female_df.Age <  30)].Salary.mean(), 2)\n",
    "female_30_39_mean = round(female_df[(female_df.Age > 29) & (female_df.Age <  40)].Salary.mean(), 2)\n",
    "female_40_49_mean = round(female_df[(female_df.Age > 39) & (female_df.Age <  50)].Salary.mean(), 2)\n",
    "female_50_100_mean = round(female_df[(female_df.Age > 49) & (female_df.Age <  100)].Salary.mean(), 2)\n",
    "\n",
    "#? I don't actually neccessarily need to print these apart from to check their accurate, will be better once I put in a table or graph!!\n",
    "print(male_20_29_mean, female_20_29_mean)"
   ]
  },
  {
   "cell_type": "code",
   "execution_count": 318,
   "metadata": {},
   "outputs": [
    {
     "name": "stdout",
     "output_type": "stream",
     "text": [
      "70000.0 55000.0\n"
     ]
    }
   ],
   "source": [
    "\n",
    "#! Median..\n",
    "male_20_29_median = round(male_df[(male_df.Age > 19) & (male_df.Age <  30)].Salary.median(), 2)\n",
    "male_30_39_median = round(male_df[(male_df.Age > 29) & (male_df.Age <  40)].Salary.median(), 2)\n",
    "male_40_49_median = round(male_df[(male_df.Age > 39) & (male_df.Age <  50)].Salary.median(), 2)\n",
    "male_50_100_median = round(male_df[(male_df.Age > 49) & (male_df.Age <  100)].Salary.median(), 2)\n",
    "\n",
    "female_20_29_median = round(female_df[(female_df.Age > 19) & (female_df.Age <  30)].Salary.median(), 2)\n",
    "female_30_39_median = round(female_df[(female_df.Age > 29) & (female_df.Age <  40)].Salary.median(), 2)\n",
    "female_40_49_median = round(female_df[(female_df.Age > 39) & (female_df.Age <  50)].Salary.median(), 2)\n",
    "female_50_100_median = round(female_df[(female_df.Age > 49) & (female_df.Age <  100)].Salary.median(), 2)\n",
    "\n",
    "print(male_20_29_median, female_20_29_median)"
   ]
  },
  {
   "cell_type": "code",
   "execution_count": 319,
   "metadata": {},
   "outputs": [
    {
     "name": "stdout",
     "output_type": "stream",
     "text": [
      "41230.28 43081.29\n",
      "100000.0 181450.0\n",
      "250000.0 220000.0\n",
      "350.0 350.0\n"
     ]
    }
   ],
   "source": [
    "\n",
    "#! Range & STD\n",
    "male_20_29_std = round(male_df[(male_df.Age > 19) & (male_df.Age <  30)].Salary.std(), 2)\n",
    "male_30_39_std = round(male_df[(male_df.Age > 29) & (male_df.Age <  40)].Salary.std(), 2)\n",
    "male_40_49_std = round(male_df[(male_df.Age > 39) & (male_df.Age <  50)].Salary.std(), 2)\n",
    "male_50_100_std = round(male_df[(male_df.Age > 49) & (male_df.Age <  100)].Salary.std(), 2)\n",
    "\n",
    "female_20_29_std = round(female_df[(female_df.Age > 19) & (female_df.Age <  30)].Salary.std(), 2)\n",
    "female_30_39_std = round(female_df[(female_df.Age > 29) & (female_df.Age <  40)].Salary.std(), 2)\n",
    "female_40_49_std = round(female_df[(female_df.Age > 39) & (female_df.Age <  50)].Salary.std(), 2)\n",
    "female_50_100_std = round(female_df[(female_df.Age > 49) & (female_df.Age <  100)].Salary.std(), 2)\n",
    "\n",
    "print(male_30_39_std, female_30_39_std)\n",
    "\n",
    "#! Range\n",
    "male_20_29_max = round(male_df[(male_df.Age > 19) & (male_df.Age <  30)].Salary.max(), 2)\n",
    "male_30_39_max = round(male_df[(male_df.Age > 29) & (male_df.Age <  40)].Salary.max(), 2)\n",
    "male_40_49_max = round(male_df[(male_df.Age > 39) & (male_df.Age <  50)].Salary.max(), 2)\n",
    "male_50_100_max = round(male_df[(male_df.Age > 49) & (male_df.Age <  100)].Salary.max(), 2)\n",
    "\n",
    "female_20_29_max = round(female_df[(female_df.Age > 19) & (female_df.Age <  30)].Salary.max(), 2)\n",
    "female_30_39_max = round(female_df[(female_df.Age > 29) & (female_df.Age <  40)].Salary.max(), 2)\n",
    "female_40_49_max = round(female_df[(female_df.Age > 39) & (female_df.Age <  50)].Salary.max(), 2)\n",
    "female_50_100_max = round(female_df[(female_df.Age > 49) & (female_df.Age <  100)].Salary.max(), 2)\n",
    "\n",
    "male_20_29_min = round(male_df[(male_df.Age > 19) & (male_df.Age <  30)].Salary.min(), 2)\n",
    "male_30_39_min = round(male_df[(male_df.Age > 29) & (male_df.Age <  40)].Salary.min(), 2)\n",
    "male_40_49_min = round(male_df[(male_df.Age > 39) & (male_df.Age <  50)].Salary.min(), 2)\n",
    "male_50_100_min = round(male_df[(male_df.Age > 49) & (male_df.Age <  100)].Salary.min(), 2)\n",
    "\n",
    "female_20_29_min = round(female_df[(female_df.Age > 19) & (female_df.Age <  30)].Salary.min(), 2)\n",
    "female_30_39_min = round(female_df[(female_df.Age > 29) & (female_df.Age <  40)].Salary.min(), 2)\n",
    "female_40_49_min = round(female_df[(female_df.Age > 39) & (female_df.Age <  50)].Salary.min(), 2)\n",
    "female_50_100_min = round(female_df[(female_df.Age > 49) & (female_df.Age <  100)].Salary.min(), 2)\n",
    "\n",
    "male_20_29_diff = male_20_29_max - male_20_29_min\n",
    "male_30_39_diff = male_30_39_max - male_30_39_min\n",
    "male_40_49_diff = male_40_49_max - male_40_49_min\n",
    "male_50_100_diff = male_50_100_max - male_50_100_min\n",
    "\n",
    "female_20_29_diff =  female_20_29_max - female_20_29_min\n",
    "female_30_39_diff =  female_20_29_max - female_20_29_min\n",
    "female_40_49_diff = female_20_29_max - female_20_29_min\n",
    "female_50_100_diff =  female_20_29_max - female_20_29_min\n",
    "\n",
    "print(male_50_100_diff, female_50_100_diff)\n",
    "print(male_40_49_max, female_40_49_max)\n",
    "print(male_20_29_min, male_20_29_min)\n",
    "\n"
   ]
  },
  {
   "cell_type": "code",
   "execution_count": 320,
   "metadata": {},
   "outputs": [
    {
     "name": "stdout",
     "output_type": "stream",
     "text": [
      "Mean Salary Table\n"
     ]
    },
    {
     "ename": "TypeError",
     "evalue": "table_creator() missing 1 required positional argument: 'table_data'",
     "output_type": "error",
     "traceback": [
      "\u001b[0;31m---------------------------------------------------------------------------\u001b[0m",
      "\u001b[0;31mTypeError\u001b[0m                                 Traceback (most recent call last)",
      "\u001b[1;32m/Users/bencunningham/Documents/GitHub/CodeAcademy_Project_2/age.ipynb Cell 9\u001b[0m line \u001b[0;36m4\n\u001b[1;32m     <a href='vscode-notebook-cell:/Users/bencunningham/Documents/GitHub/CodeAcademy_Project_2/age.ipynb#X14sZmlsZQ%3D%3D?line=42'>43</a>\u001b[0m \u001b[39m#* Making the tables..\u001b[39;00m\n\u001b[1;32m     <a href='vscode-notebook-cell:/Users/bencunningham/Documents/GitHub/CodeAcademy_Project_2/age.ipynb#X14sZmlsZQ%3D%3D?line=43'>44</a>\u001b[0m \u001b[39mprint\u001b[39m(\u001b[39m\"\u001b[39m\u001b[39mMean Salary Table\u001b[39m\u001b[39m\"\u001b[39m)\n\u001b[0;32m---> <a href='vscode-notebook-cell:/Users/bencunningham/Documents/GitHub/CodeAcademy_Project_2/age.ipynb#X14sZmlsZQ%3D%3D?line=44'>45</a>\u001b[0m formatted_table \u001b[39m=\u001b[39m table_creator(mean_table)\n\u001b[1;32m     <a href='vscode-notebook-cell:/Users/bencunningham/Documents/GitHub/CodeAcademy_Project_2/age.ipynb#X14sZmlsZQ%3D%3D?line=45'>46</a>\u001b[0m \u001b[39mprint\u001b[39m(formatted_table, \u001b[39m'\u001b[39m\u001b[39m\\n\u001b[39;00m\u001b[39m'\u001b[39m)\n\u001b[1;32m     <a href='vscode-notebook-cell:/Users/bencunningham/Documents/GitHub/CodeAcademy_Project_2/age.ipynb#X14sZmlsZQ%3D%3D?line=47'>48</a>\u001b[0m \u001b[39mprint\u001b[39m(\u001b[39m\"\u001b[39m\u001b[39mMedian Salary Table\u001b[39m\u001b[39m\"\u001b[39m)\n",
      "\u001b[0;31mTypeError\u001b[0m: table_creator() missing 1 required positional argument: 'table_data'"
     ]
    }
   ],
   "source": [
    "\n",
    "#? WTF I literally just deleted a cell with all my table data and can't get back now...\n",
    "#! That's so fkd how that can\n",
    "#* Table data\n",
    "mean_table = [\n",
    "    [\"Age 20 - 29\", male_20_29_mean, female_20_29_mean],\n",
    "    [\"Age 30 - 39\", male_30_39_mean, female_30_39_mean],\n",
    "    [\"Age 40 - 49\", male_40_49_mean, female_40_49_mean],\n",
    "    [\"Age 50+ \", male_50_100_mean, female_50_100_mean]\n",
    "]\n",
    "median_table = [\n",
    "    [\"Age 20 - 29\", male_20_29_median, female_20_29_median],\n",
    "    [\"Age 30 - 39\", male_30_39_median, female_30_39_median],\n",
    "    [\"Age 40 - 49\", male_40_49_median, female_40_49_median],\n",
    "    [\"Age 50+ \", male_50_100_median, female_50_100_median]\n",
    "]\n",
    "std_table = [\n",
    "    [\"Age 20 - 29\", male_20_29_std, female_20_29_std],\n",
    "    [\"Age 30 - 39\", male_30_39_std, female_30_39_std],\n",
    "    [\"Age 40 - 49\", male_40_49_std, female_40_49_std],\n",
    "    [\"Age 50+ \", male_50_100_std, female_50_100_std]\n",
    "]\n",
    "max_table = [\n",
    "    [\"Age 20 - 29\", male_20_29_max, female_20_29_max],\n",
    "    [\"Age 30 - 39\", male_30_39_max, female_30_39_max],\n",
    "    [\"Age 40 - 49\", male_40_49_max, female_40_49_max],\n",
    "    [\"Age 50+ \", male_50_100_max, female_50_100_max]\n",
    "]\n",
    "min_table = [\n",
    "    [\"Age 20 - 29\", male_20_29_min, female_20_29_min],\n",
    "    [\"Age 30 - 39\", male_30_39_min, female_30_39_min],\n",
    "    [\"Age 40 - 49\", male_40_49_min, female_40_49_min],\n",
    "    [\"Age 50+ \", male_50_100_min, female_50_100_min]\n",
    "]\n",
    "diff_table = [\n",
    "    [\"Age 20 - 29\", male_20_29_diff, female_20_29_diff],\n",
    "    [\"Age 30 - 39\", male_30_39_diff, female_30_39_diff],\n",
    "    [\"Age 40 - 49\", male_40_49_diff, female_40_49_diff],\n",
    "    [\"Age 50+ \", male_50_100_diff, female_50_100_diff]\n",
    "]\n",
    "\n",
    "\n",
    "\n",
    "#* Making the tables..\n",
    "print(\"Mean Salary Table\")\n",
    "formatted_table = table_creator(mean_table)\n",
    "print(formatted_table, '\\n')\n",
    "\n",
    "print(\"Median Salary Table\")\n",
    "formatted_table = table_creator(\"Age Group\", median_table)\n",
    "print(formatted_table, '\\n')\n",
    "\n",
    "print(\"Standard Deviation Table\")\n",
    "formatted_table = table_creator(\"Age Group\", std_table)\n",
    "print(formatted_table, '\\n')\n",
    "\n",
    "print(\"Maximum Salary Table\")\n",
    "formatted_table = table_creator(\"Age Group\", max_table)\n",
    "print(formatted_table, '\\n')\n",
    "\n",
    "print(\"Minimum Salary Table\")\n",
    "formatted_table = table_creator(\"Age Group\", min_table)\n",
    "print(formatted_table, '\\n')\n",
    "\n",
    "print(\"Salary Range Table\")\n",
    "formatted_table = table_creator(\"Age Group\", diff_table)\n",
    "print(formatted_table, '\\n')"
   ]
  }
 ],
 "metadata": {
  "kernelspec": {
   "display_name": "Python 3",
   "language": "python",
   "name": "python3"
  },
  "language_info": {
   "codemirror_mode": {
    "name": "ipython",
    "version": 3
   },
   "file_extension": ".py",
   "mimetype": "text/x-python",
   "name": "python",
   "nbconvert_exporter": "python",
   "pygments_lexer": "ipython3",
   "version": "3.9.6"
  }
 },
 "nbformat": 4,
 "nbformat_minor": 2
}
