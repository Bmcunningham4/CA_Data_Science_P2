{
 "cells": [
  {
   "cell_type": "markdown",
   "metadata": {},
   "source": [
    "## Going to be nice quick operations from here.. skipping the count of each for the moment.. and  starting with male & female dfs earlier!"
   ]
  },
  {
   "cell_type": "code",
   "execution_count": 11,
   "metadata": {},
   "outputs": [
    {
     "name": "stdout",
     "output_type": "stream",
     "text": [
      "     Age  Gender  Education Level              Job Title  Years of Experience  \\\n",
      "1   28.0  Female                2           Data Analyst                  3.0   \n",
      "3   36.0  Female                1        Sales Associate                  7.0   \n",
      "6   42.0  Female                2        Product Manager                 12.0   \n",
      "8   26.0  Female                1  Marketing Coordinator                  1.0   \n",
      "11  48.0  Female                1             HR Manager                 18.0   \n",
      "\n",
      "      Salary Country      Race  Senior  \n",
      "1    65000.0     USA  Hispanic       0  \n",
      "3    60000.0     USA  Hispanic       0  \n",
      "6   120000.0     USA     Asian       0  \n",
      "8    45000.0   China   Chinese       0  \n",
      "11  140000.0      UK     Asian       0  \n"
     ]
    }
   ],
   "source": [
    "import pandas as pd\n",
    "from tabulate import tabulate\n",
    "salary_df = pd.read_csv(\"Salary.csv\")\n",
    "male_df = salary_df[salary_df.Gender == \"Male\"]\n",
    "female_df = salary_df[salary_df.Gender == \"Female\"]\n",
    "print(female_df.head())\n",
    "\n",
    "#? Skipping the count for each education level which is either 0, 1, 2, or 3!!!"
   ]
  },
  {
   "cell_type": "code",
   "execution_count": 12,
   "metadata": {},
   "outputs": [
    {
     "name": "stdout",
     "output_type": "stream",
     "text": [
      "98971.77 89165.22\n"
     ]
    }
   ],
   "source": [
    "\n",
    "#! Mean \n",
    "male_0_mean = round(male_df[(male_df[\"Education Level\"] == 0)].Salary.mean(), 2)\n",
    "male_1_mean = round(male_df[(male_df[\"Education Level\"] == 1)].Salary.mean(), 2)\n",
    "male_2_mean = round(male_df[(male_df[\"Education Level\"] == 2)].Salary.mean(), 2)\n",
    "male_3_mean = round(male_df[(male_df[\"Education Level\"] == 3)].Salary.mean(), 2)\n",
    "\n",
    "female_0_mean = round(female_df[(female_df[\"Education Level\"] == 0)].Salary.mean(), 2)\n",
    "female_1_mean = round(female_df[(female_df[\"Education Level\"] == 1)].Salary.mean(), 2)\n",
    "female_2_mean = round(female_df[(female_df[\"Education Level\"] == 2)].Salary.mean(), 2)\n",
    "female_3_mean = round(female_df[(female_df[\"Education Level\"] == 3)].Salary.mean(), 2)\n",
    "\n",
    "print(male_1_mean, female_1_mean)"
   ]
  },
  {
   "cell_type": "code",
   "execution_count": 13,
   "metadata": {},
   "outputs": [
    {
     "name": "stdout",
     "output_type": "stream",
     "text": [
      "85000.0 75000.0\n"
     ]
    }
   ],
   "source": [
    "\n",
    "#! Median\n",
    "male_0_median = round(male_df[(male_df[\"Education Level\"] == 0)].Salary.median(), 2)\n",
    "male_1_median = round(male_df[(male_df[\"Education Level\"] == 1)].Salary.median(), 2)\n",
    "male_2_median = round(male_df[(male_df[\"Education Level\"] == 2)].Salary.median(), 2)\n",
    "male_3_median = round(male_df[(male_df[\"Education Level\"] == 3)].Salary.median(), 2)\n",
    "\n",
    "female_0_median = round(female_df[(female_df[\"Education Level\"] == 0)].Salary.median(), 2)\n",
    "female_1_median = round(female_df[(female_df[\"Education Level\"] == 1)].Salary.median(), 2)\n",
    "female_2_median = round(female_df[(female_df[\"Education Level\"] == 2)].Salary.median(), 2)\n",
    "female_3_median = round(female_df[(female_df[\"Education Level\"] == 3)].Salary.median(), 2)\n",
    "\n",
    "print(male_1_median, female_1_median)"
   ]
  },
  {
   "cell_type": "code",
   "execution_count": 14,
   "metadata": {},
   "outputs": [
    {
     "name": "stdout",
     "output_type": "stream",
     "text": [
      "42624.34 45621.52\n",
      "250000.0 215000.0\n",
      "42624.34 45621.52\n",
      "249421.0 165000.0\n"
     ]
    }
   ],
   "source": [
    "\n",
    "#! STD & Range\n",
    "male_0_std = round(male_df[(male_df[\"Education Level\"] == 0)].Salary.std(), 2)\n",
    "male_1_std = round(male_df[(male_df[\"Education Level\"] == 1)].Salary.std(), 2)\n",
    "male_2_std = round(male_df[(male_df[\"Education Level\"] == 2)].Salary.std(), 2)\n",
    "male_3_std = round(male_df[(male_df[\"Education Level\"] == 3)].Salary.std(), 2)\n",
    "\n",
    "female_0_std = round(female_df[(female_df[\"Education Level\"] == 0)].Salary.std(), 2)\n",
    "female_1_std = round(female_df[(female_df[\"Education Level\"] == 1)].Salary.std(), 2)\n",
    "female_2_std = round(female_df[(female_df[\"Education Level\"] == 2)].Salary.std(), 2)\n",
    "female_3_std = round(female_df[(female_df[\"Education Level\"] == 3)].Salary.std(), 2)\n",
    "\n",
    "print(male_1_std, female_1_std)\n",
    "\n",
    "# Max\n",
    "male_0_max = round(male_df[(male_df[\"Education Level\"] == 0)].Salary.max(), 2)\n",
    "male_1_max = round(male_df[(male_df[\"Education Level\"] == 1)].Salary.max(), 2)\n",
    "male_2_max = round(male_df[(male_df[\"Education Level\"] == 2)].Salary.max(), 2)\n",
    "male_3_max = round(male_df[(male_df[\"Education Level\"] == 3)].Salary.max(), 2)\n",
    "\n",
    "female_0_max = round(female_df[(female_df[\"Education Level\"] == 0)].Salary.max(), 2)\n",
    "female_1_max = round(female_df[(female_df[\"Education Level\"] == 1)].Salary.max(), 2)\n",
    "female_2_max = round(female_df[(female_df[\"Education Level\"] == 2)].Salary.max(), 2)\n",
    "female_3_max = round(female_df[(female_df[\"Education Level\"] == 3)].Salary.max(), 2)\n",
    "\n",
    "print(male_1_max, female_1_max)\n",
    "\n",
    "# min\n",
    "male_0_min = round(male_df[(male_df[\"Education Level\"] == 0)].Salary.min(), 2)\n",
    "male_1_min = round(male_df[(male_df[\"Education Level\"] == 1)].Salary.min(), 2)\n",
    "male_2_min = round(male_df[(male_df[\"Education Level\"] == 2)].Salary.min(), 2)\n",
    "male_3_min = round(male_df[(male_df[\"Education Level\"] == 3)].Salary.min(), 2)\n",
    "\n",
    "female_0_min = round(female_df[(female_df[\"Education Level\"] == 0)].Salary.min(), 2)\n",
    "female_1_min = round(female_df[(female_df[\"Education Level\"] == 1)].Salary.min(), 2)\n",
    "female_2_min = round(female_df[(female_df[\"Education Level\"] == 2)].Salary.min(), 2)\n",
    "female_3_min = round(female_df[(female_df[\"Education Level\"] == 3)].Salary.min(), 2)\n",
    "\n",
    "print(male_1_std, female_1_std)\n",
    "\n",
    "# diff\n",
    "male_0_diff = male_0_max - male_0_min \n",
    "male_1_diff = male_1_max - male_1_min \n",
    "male_2_diff = male_2_max - male_2_min \n",
    "male_3_diff = male_3_max - male_3_min \n",
    "\n",
    "female_0_diff = female_0_max - female_0_min \n",
    "female_1_diff = female_1_max - female_1_min \n",
    "female_2_diff = female_2_max - female_2_min \n",
    "female_3_diff = female_3_max - female_3_min \n",
    "\n",
    "print(male_3_diff, female_3_diff)\n",
    "\n",
    "\n",
    "#? Nice clean quick easy work in here good shit, I wonder If I should be making functions instead of copy and pasting it?"
   ]
  }
 ],
 "metadata": {
  "kernelspec": {
   "display_name": "Python 3",
   "language": "python",
   "name": "python3"
  },
  "language_info": {
   "codemirror_mode": {
    "name": "ipython",
    "version": 3
   },
   "file_extension": ".py",
   "mimetype": "text/x-python",
   "name": "python",
   "nbconvert_exporter": "python",
   "pygments_lexer": "ipython3",
   "version": "3.9.6"
  }
 },
 "nbformat": 4,
 "nbformat_minor": 2
}
