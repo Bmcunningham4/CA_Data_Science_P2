{
 "cells": [
  {
   "cell_type": "code",
   "execution_count": 45,
   "metadata": {},
   "outputs": [],
   "source": [
    "import pandas as pd #* Don't want to look like a clown using uneseccary imports.... so got rid of other ones..\n",
    "#? Only other shite I'll have to import is the skits. stats crap..\n",
    "\n",
    "salary_df = pd.read_csv(\"Salary.csv\")"
   ]
  },
  {
   "cell_type": "code",
   "execution_count": 46,
   "metadata": {},
   "outputs": [],
   "source": [
    "# Sneaky bit of code to write the salary in nice wayy..\n",
    "# formatted = \"{:,.2f}\".format(some_val) #* According to steve the big fella don't need to worry about this until very last step..."
   ]
  },
  {
   "cell_type": "code",
   "execution_count": 47,
   "metadata": {},
   "outputs": [
    {
     "name": "stdout",
     "output_type": "stream",
     "text": [
      "    Age  Gender  Education Level              Job Title  Years of Experience  \\\n",
      "0  32.0    Male                1      Software Engineer                  5.0   \n",
      "1  28.0  Female                2           Data Analyst                  3.0   \n",
      "2  45.0    Male                3                Manager                 15.0   \n",
      "3  36.0  Female                1        Sales Associate                  7.0   \n",
      "4  52.0    Male                2               Director                 20.0   \n",
      "5  29.0    Male                1      Marketing Analyst                  2.0   \n",
      "6  42.0  Female                2        Product Manager                 12.0   \n",
      "7  31.0    Male                1          Sales Manager                  4.0   \n",
      "8  26.0  Female                1  Marketing Coordinator                  1.0   \n",
      "9  38.0    Male                3              Scientist                 10.0   \n",
      "\n",
      "     Salary    Country        Race  Senior  \n",
      "0   90000.0         UK       White       0  \n",
      "1   65000.0        USA    Hispanic       0  \n",
      "2  150000.0     Canada       White       1  \n",
      "3   60000.0        USA    Hispanic       0  \n",
      "4  200000.0        USA       Asian       0  \n",
      "5   55000.0        USA    Hispanic       0  \n",
      "6  120000.0        USA       Asian       0  \n",
      "7   80000.0      China      Korean       0  \n",
      "8   45000.0      China     Chinese       0  \n",
      "9  110000.0  Australia  Australian       1  \n"
     ]
    }
   ],
   "source": [
    "print(salary_df.head(10))"
   ]
  },
  {
   "cell_type": "markdown",
   "metadata": {},
   "source": [
    "# Wowww This is it goat I'm finally gonna start practicing what it's like in here working an equivalent jupyter notebook file.."
   ]
  },
  {
   "cell_type": "code",
   "execution_count": 48,
   "metadata": {},
   "outputs": [
    {
     "name": "stdout",
     "output_type": "stream",
     "text": [
      "The average male salary is $121395.7\n",
      "The average female salary is $107889.0\n",
      "The mean salary difference is + $13506.7 towards the male \n",
      "\n"
     ]
    }
   ],
   "source": [
    "\n",
    "#! mean\n",
    "#* Most basic: Avg salary for male/ female no context!\n",
    "mean_female_salary = salary_df[salary_df[\"Gender\"] == \"Female\"].Salary.mean() #* I just realised I actually don't know what currency I'm dealing with in here!!\n",
    "mean_male_salary = salary_df[salary_df[\"Gender\"] == \"Male\"].Salary.mean()\n",
    "\n",
    "print(f\"The average male salary is ${round(mean_male_salary, 2)}\")\n",
    "print(f\"The average female salary is ${round(mean_female_salary, 2)}\")\n",
    "mean_salary_diff = round(mean_male_salary - mean_female_salary,2)\n",
    "\n",
    "print(f\"The mean salary difference is + ${mean_salary_diff} towards the male\", '\\n')"
   ]
  },
  {
   "cell_type": "code",
   "execution_count": 49,
   "metadata": {},
   "outputs": [
    {
     "name": "stdout",
     "output_type": "stream",
     "text": [
      "The median male salary is $120000.0\n",
      "The median female salary is $105000.0\n",
      "The median salary difference is + $15000.0 towards the male \n",
      "\n"
     ]
    }
   ],
   "source": [
    "\n",
    "#! Median\n",
    "median_female_salary = salary_df[salary_df[\"Gender\"] == \"Female\"].Salary.median() \n",
    "median_male_salary = salary_df[salary_df[\"Gender\"] == \"Male\"].Salary.median()\n",
    "\n",
    "print(f\"The median male salary is ${round(median_male_salary, 2)}\")\n",
    "print(f\"The median female salary is ${round(median_female_salary, 2)}\")\n",
    "mean_salary_diff = round(median_male_salary - median_female_salary,2)\n",
    "\n",
    "print(f\"The median salary difference is + ${mean_salary_diff} towards the male\", '\\n')"
   ]
  },
  {
   "cell_type": "code",
   "execution_count": 50,
   "metadata": {},
   "outputs": [
    {
     "name": "stdout",
     "output_type": "stream",
     "text": [
      "The min, max female salary is $500.0, $220000.0, Giving a range of $219500.0\n",
      "The min, max fale salary is $350.0, $250000.0, Giving a range of $249650.0 \n",
      "\n",
      "The standard deviation of female salary is 52723.61\n",
      "The standard deviation of male salary is 52098.63\n",
      "The formatted standard deviation for males is 52,098.63\n"
     ]
    }
   ],
   "source": [
    "\n",
    "#! Range & std (Changed from variance cause y tf would I want to know the square of the number and not the actual number.......)\n",
    "min_female_salary = salary_df[salary_df.Gender == \"Female\"].Salary.min() # Don't need [] you silly boy since it doesn't have spaces in name!!\n",
    "max_female_salary = salary_df[salary_df.Gender == \"Female\"].Salary.max()\n",
    "range_female_salary = max_female_salary - min_female_salary\n",
    "print(f\"The min, max female salary is ${min_female_salary}, ${max_female_salary}, Giving a range of ${range_female_salary}\")\n",
    "\n",
    "min_male_salary = salary_df[salary_df.Gender == \"Male\"].Salary.min() \n",
    "max_male_salary = salary_df[salary_df.Gender == \"Male\"].Salary.max()\n",
    "range_male_salary = max_male_salary - min_male_salary\n",
    "print(f\"The min, max fale salary is ${min_male_salary}, ${max_male_salary}, Giving a range of ${range_male_salary}\", '\\n')\n",
    "\n",
    "\n",
    "std_female_salary = round(salary_df[salary_df.Gender == \"Female\"].Salary.std(), 2)\n",
    "std_male_salary = round(salary_df[salary_df.Gender == \"Male\"].Salary.std(),2)\n",
    "print(f\"The standard deviation of female salary is {std_female_salary}\") \n",
    "print(f\"The standard deviation of male salary is {std_male_salary}\")\n",
    "\n",
    "#? Quick Test of formatter..\n",
    "formatted_std_male = \"{:,.2f}\".format(std_male_salary)\n",
    "print(f\"The formatted standard deviation for males is {formatted_std_male}\")"
   ]
  },
  {
   "cell_type": "markdown",
   "metadata": {},
   "source": [
    "## Before I forget trying to work out what constitutes as low vs high std ... Couldn't quite figure it out..\n",
    "68-95-99.7 Rule (Empirical Rule):\n",
    "For a normally distributed dataset, approximately 68% of data falls within one standard deviation of the mean, 95% within two standard deviations, and 99.7% within three standard deviations."
   ]
  }
 ],
 "metadata": {
  "kernelspec": {
   "display_name": "Python 3",
   "language": "python",
   "name": "python3"
  },
  "language_info": {
   "codemirror_mode": {
    "name": "ipython",
    "version": 3
   },
   "file_extension": ".py",
   "mimetype": "text/x-python",
   "name": "python",
   "nbconvert_exporter": "python",
   "pygments_lexer": "ipython3",
   "version": "3.9.6"
  }
 },
 "nbformat": 4,
 "nbformat_minor": 2
}
