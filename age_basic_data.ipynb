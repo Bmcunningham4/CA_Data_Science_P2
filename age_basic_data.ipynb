{
 "cells": [
  {
   "cell_type": "markdown",
   "metadata": {},
   "source": [
    "##### Plan in here: To get basic age info and then see how salary is affected at diff ages..\n",
    "Eg. find out age range.. and then come up with age categories to work out.. ^^ the next more specific things.."
   ]
  },
  {
   "cell_type": "code",
   "execution_count": 7,
   "metadata": {},
   "outputs": [
    {
     "name": "stdout",
     "output_type": "stream",
     "text": [
      "    Age  Gender  Education Level              Job Title  Years of Experience  \\\n",
      "0  32.0    Male                1      Software Engineer                  5.0   \n",
      "1  28.0  Female                2           Data Analyst                  3.0   \n",
      "2  45.0    Male                3                Manager                 15.0   \n",
      "3  36.0  Female                1        Sales Associate                  7.0   \n",
      "4  52.0    Male                2               Director                 20.0   \n",
      "5  29.0    Male                1      Marketing Analyst                  2.0   \n",
      "6  42.0  Female                2        Product Manager                 12.0   \n",
      "7  31.0    Male                1          Sales Manager                  4.0   \n",
      "8  26.0  Female                1  Marketing Coordinator                  1.0   \n",
      "9  38.0    Male                3              Scientist                 10.0   \n",
      "\n",
      "     Salary    Country        Race  Senior  \n",
      "0   90000.0         UK       White       0  \n",
      "1   65000.0        USA    Hispanic       0  \n",
      "2  150000.0     Canada       White       1  \n",
      "3   60000.0        USA    Hispanic       0  \n",
      "4  200000.0        USA       Asian       0  \n",
      "5   55000.0        USA    Hispanic       0  \n",
      "6  120000.0        USA       Asian       0  \n",
      "7   80000.0      China      Korean       0  \n",
      "8   45000.0      China     Chinese       0  \n",
      "9  110000.0  Australia  Australian       1  \n"
     ]
    }
   ],
   "source": [
    "import pandas as pd\n",
    "salary_df = pd.read_csv(\"Salary.csv\")\n",
    "print(salary_df.head(10)) #? Don't need to display these for all of them just creates unnessecary clutter!!"
   ]
  },
  {
   "cell_type": "code",
   "execution_count": 17,
   "metadata": {},
   "outputs": [
    {
     "name": "stdout",
     "output_type": "stream",
     "text": [
      "2439\n",
      "2811\n",
      "1163\n",
      "259\n",
      "12\n",
      "3013 3671\n"
     ]
    }
   ],
   "source": [
    "# How many in each brother...\n",
    "#? Can't decide whether I need to seperate count for meale and female as well!!\n",
    "age_20_29 = salary_df[(salary_df['Age'] > 19) & (salary_df['Age'] < 30)].Salary.count() #* Can't write inequalities the chill way fam can ya!!\n",
    "age_30_39 = salary_df[(salary_df['Age'] > 29) & (salary_df['Age'] < 40)].Salary.count()\n",
    "age_40_49 = salary_df[(salary_df['Age'] > 39) & (salary_df['Age'] < 50)].Salary.count()\n",
    "age_50_59 = salary_df[(salary_df['Age'] > 49) & (salary_df['Age'] < 60)].Salary.count()\n",
    "age_60_69 = salary_df[(salary_df['Age'] > 59) & (salary_df['Age'] < 70)].Salary.count()\n",
    "\n",
    "#todo: This is the sorta thing that instead of being visualised in stupid print statements I nice little bar graph could be used...\n",
    "print(age_20_29)\n",
    "print(age_30_39)\n",
    "print(age_40_49)\n",
    "print(age_50_59)\n",
    "print(age_60_69) # That's pretty useless so I can probably just call it a 50+ age!\n",
    "\n",
    "#? Just checking total count for each as well and maybe if there's a difference there than I might have to adjust that for ^^ m v f\n",
    "female_total = salary_df[salary_df.Gender == \"Female\"].Salary.count()\n",
    "male_total = salary_df[salary_df.Gender == \"Male\"].Salary.count()\n",
    "print(female_total, male_total) #* Similar enough no need for any drastic changes I don't think sonny boy!!\n",
    "\n"
   ]
  },
  {
   "cell_type": "code",
   "execution_count": 18,
   "metadata": {},
   "outputs": [
    {
     "name": "stdout",
     "output_type": "stream",
     "text": [
      "The min and max male ages are 22.0 & 62.0\n",
      "The min and max female ages are 21.0 & 60.0\n"
     ]
    }
   ],
   "source": [
    "# Let's find that basic info ayyy\n",
    "age_male_min = salary_df[salary_df.Gender == \"Male\"].Age.min()\n",
    "age_male_max = salary_df[salary_df.Gender == \"Male\"].Age.max()\n",
    "age_female_min = salary_df[salary_df.Gender == \"Female\"].Age.min()\n",
    "age_female_max = salary_df[salary_df.Gender == \"Female\"].Age.max()\n",
    "\n",
    "print(f\"The min and max male ages are {age_male_min} & {age_male_max}\")\n",
    "print(f\"The min and max female ages are {age_female_min} & {age_female_max}\")"
   ]
  },
  {
   "cell_type": "code",
   "execution_count": 19,
   "metadata": {},
   "outputs": [
    {
     "name": "stdout",
     "output_type": "stream",
     "text": [
      "     Age Gender  Education Level             Job Title  Years of Experience  \\\n",
      "0   32.0   Male                1     Software Engineer                  5.0   \n",
      "2   45.0   Male                3               Manager                 15.0   \n",
      "4   52.0   Male                2              Director                 20.0   \n",
      "5   29.0   Male                1     Marketing Analyst                  2.0   \n",
      "7   31.0   Male                1         Sales Manager                  4.0   \n",
      "9   38.0   Male                3             Scientist                 10.0   \n",
      "10  29.0   Male                2    Software Developer                  3.0   \n",
      "12  35.0   Male                1     Financial Analyst                  6.0   \n",
      "14  27.0   Male                1  Customer Service Rep                  2.0   \n",
      "15  44.0   Male                1    Operations Manager                 16.0   \n",
      "\n",
      "      Salary    Country        Race  Senior  \n",
      "0    90000.0         UK       White       0  \n",
      "2   150000.0     Canada       White       1  \n",
      "4   200000.0        USA       Asian       0  \n",
      "5    55000.0        USA    Hispanic       0  \n",
      "7    80000.0      China      Korean       0  \n",
      "9   110000.0  Australia  Australian       1  \n",
      "10   75000.0         UK       Welsh       0  \n",
      "12   65000.0      China      Korean       0  \n",
      "14   40000.0     Canada       Asian       0  \n",
      "15  125000.0      China     Chinese       0  \n"
     ]
    }
   ],
   "source": [
    "# Lets find the male v female salary's: mean, median, range and std for all diff age ranges!!\n",
    "#? Would it be easier if I had a male and female dataframe? to use probably...\n",
    "#! Everyone take note of what's happening here!!\n",
    "male_df = salary_df[salary_df.Gender == \"Male\"]\n",
    "female_df = salary_df[salary_df.Gender == \"Female\"]\n",
    "print(male_df.head(10)) #* How bloody fucking good heyy\n"
   ]
  }
 ],
 "metadata": {
  "kernelspec": {
   "display_name": "Python 3",
   "language": "python",
   "name": "python3"
  },
  "language_info": {
   "codemirror_mode": {
    "name": "ipython",
    "version": 3
   },
   "file_extension": ".py",
   "mimetype": "text/x-python",
   "name": "python",
   "nbconvert_exporter": "python",
   "pygments_lexer": "ipython3",
   "version": "3.9.6"
  }
 },
 "nbformat": 4,
 "nbformat_minor": 2
}
