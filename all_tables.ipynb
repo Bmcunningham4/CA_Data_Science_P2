{
 "cells": [
  {
   "cell_type": "markdown",
   "metadata": {},
   "source": [
    "### Basic info table\n"
   ]
  },
  {
   "cell_type": "code",
   "execution_count": 1,
   "metadata": {},
   "outputs": [
    {
     "ename": "ModuleNotFoundError",
     "evalue": "No module named 'basic_data'",
     "output_type": "error",
     "traceback": [
      "\u001b[0;31m---------------------------------------------------------------------------\u001b[0m",
      "\u001b[0;31mModuleNotFoundError\u001b[0m                       Traceback (most recent call last)",
      "\u001b[1;32m/Users/bencunningham/Documents/GitHub/CodeAcademy_Project_2/all_tables.ipynb Cell 2\u001b[0m line \u001b[0;36m1\n\u001b[0;32m----> <a href='vscode-notebook-cell:/Users/bencunningham/Documents/GitHub/CodeAcademy_Project_2/all_tables.ipynb#W2sZmlsZQ%3D%3D?line=0'>1</a>\u001b[0m \u001b[39mimport\u001b[39;00m \u001b[39mbasic_data\u001b[39;00m \n\u001b[1;32m      <a href='vscode-notebook-cell:/Users/bencunningham/Documents/GitHub/CodeAcademy_Project_2/all_tables.ipynb#W2sZmlsZQ%3D%3D?line=2'>3</a>\u001b[0m table_data \u001b[39m=\u001b[39m [\n\u001b[1;32m      <a href='vscode-notebook-cell:/Users/bencunningham/Documents/GitHub/CodeAcademy_Project_2/all_tables.ipynb#W2sZmlsZQ%3D%3D?line=3'>4</a>\u001b[0m     [\u001b[39m\"\u001b[39m\u001b[39mMean\u001b[39m\u001b[39m\"\u001b[39m, mean_male_salary, mean_female_salary],\n\u001b[1;32m      <a href='vscode-notebook-cell:/Users/bencunningham/Documents/GitHub/CodeAcademy_Project_2/all_tables.ipynb#W2sZmlsZQ%3D%3D?line=4'>5</a>\u001b[0m     [\u001b[39m\"\u001b[39m\u001b[39mMedian\u001b[39m\u001b[39m\"\u001b[39m, median_male_salary, median_female_salary],\n\u001b[0;32m   (...)\u001b[0m\n\u001b[1;32m      <a href='vscode-notebook-cell:/Users/bencunningham/Documents/GitHub/CodeAcademy_Project_2/all_tables.ipynb#W2sZmlsZQ%3D%3D?line=8'>9</a>\u001b[0m     [\u001b[39m\"\u001b[39m\u001b[39mRange\u001b[39m\u001b[39m\"\u001b[39m, range_male_salary, range_female_salary]\n\u001b[1;32m     <a href='vscode-notebook-cell:/Users/bencunningham/Documents/GitHub/CodeAcademy_Project_2/all_tables.ipynb#W2sZmlsZQ%3D%3D?line=9'>10</a>\u001b[0m ]\n\u001b[1;32m     <a href='vscode-notebook-cell:/Users/bencunningham/Documents/GitHub/CodeAcademy_Project_2/all_tables.ipynb#W2sZmlsZQ%3D%3D?line=11'>12</a>\u001b[0m table_headers \u001b[39m=\u001b[39m [\u001b[39m\"\u001b[39m\u001b[39mSalary Metrics\u001b[39m\u001b[39m\"\u001b[39m, \u001b[39m\"\u001b[39m\u001b[39mMale\u001b[39m\u001b[39m\"\u001b[39m, \u001b[39m\"\u001b[39m\u001b[39mFemale\u001b[39m\u001b[39m\"\u001b[39m]\n",
      "\u001b[0;31mModuleNotFoundError\u001b[0m: No module named 'basic_data'"
     ]
    }
   ],
   "source": [
    "\n",
    "\n",
    "import basic_data \n",
    "\n",
    "table_data = [\n",
    "    [\"Mean\", mean_male_salary, mean_female_salary],\n",
    "    [\"Median\", median_male_salary, median_female_salary],\n",
    "    [\"STD\", std_male_salary, std_female_salary],\n",
    "    [\"Max\", max_male_salary, max_female_salary],\n",
    "    [\"Min\", min_male_salary, min_female_salary],\n",
    "    [\"Range\", range_male_salary, range_female_salary]\n",
    "]\n",
    "\n",
    "table_headers = [\"Salary Metrics\", \"Male\", \"Female\"]\n",
    "table = tabulate(table_data, table_headers, tablefmt=\"fancy_grid\")\n",
    "print(table)\n"
   ]
  }
 ],
 "metadata": {
  "kernelspec": {
   "display_name": "Python 3",
   "language": "python",
   "name": "python3"
  },
  "language_info": {
   "codemirror_mode": {
    "name": "ipython",
    "version": 3
   },
   "file_extension": ".py",
   "mimetype": "text/x-python",
   "name": "python",
   "nbconvert_exporter": "python",
   "pygments_lexer": "ipython3",
   "version": "3.9.6"
  }
 },
 "nbformat": 4,
 "nbformat_minor": 2
}
