{
 "cells": [
  {
   "cell_type": "code",
   "execution_count": 14,
   "metadata": {},
   "outputs": [],
   "source": [
    "import pandas as pd\n",
    "import numpy as np\n",
    "import seaborn as sns\n",
    "import csv\n",
    "#? Only other shite I'll have to import is the skits. stats crap..\n",
    "\n",
    "salary_df = pd.read_csv(\"Salary.csv\")"
   ]
  },
  {
   "cell_type": "code",
   "execution_count": 15,
   "metadata": {},
   "outputs": [
    {
     "name": "stdout",
     "output_type": "stream",
     "text": [
      "    Age  Gender  Education Level          Job Title  Years of Experience  \\\n",
      "0  32.0    Male                1  Software Engineer                  5.0   \n",
      "1  28.0  Female                2       Data Analyst                  3.0   \n",
      "2  45.0    Male                3            Manager                 15.0   \n",
      "3  36.0  Female                1    Sales Associate                  7.0   \n",
      "4  52.0    Male                2           Director                 20.0   \n",
      "\n",
      "     Salary Country      Race  Senior  \n",
      "0   90000.0      UK     White       0  \n",
      "1   65000.0     USA  Hispanic       0  \n",
      "2  150000.0  Canada     White       1  \n",
      "3   60000.0     USA  Hispanic       0  \n",
      "4  200000.0     USA     Asian       0  \n"
     ]
    }
   ],
   "source": [
    "print(salary_df.head(5))"
   ]
  },
  {
   "cell_type": "markdown",
   "metadata": {},
   "source": [
    "# Wowww This is it goat I'm finally gonna start practicing what it's like in here working an equivalent jupyter notebook file.."
   ]
  },
  {
   "cell_type": "code",
   "execution_count": 16,
   "metadata": {},
   "outputs": [
    {
     "name": "stdout",
     "output_type": "stream",
     "text": [
      "The average male salary is $121395.7\n",
      "The average female salary is $107889.0\n",
      "The mean salary difference is + $13506.7 towards the male \n",
      "\n"
     ]
    }
   ],
   "source": [
    "\n",
    "#! mean\n",
    "#* Most basic: Avg salary for male/ female no context!\n",
    "mean_female_salary = salary_df[salary_df[\"Gender\"] == \"Female\"].Salary.mean() #* I just realised I actually don't know what currency I'm dealing with in here!!\n",
    "mean_male_salary = salary_df[salary_df[\"Gender\"] == \"Male\"].Salary.mean()\n",
    "\n",
    "print(f\"The average male salary is ${round(mean_male_salary, 2)}\")\n",
    "print(f\"The average female salary is ${round(mean_female_salary, 2)}\")\n",
    "mean_salary_diff = round(mean_male_salary - mean_female_salary,2)\n",
    "\n",
    "print(f\"The mean salary difference is + ${mean_salary_diff} towards the male\", '\\n')"
   ]
  },
  {
   "cell_type": "code",
   "execution_count": 17,
   "metadata": {},
   "outputs": [
    {
     "name": "stdout",
     "output_type": "stream",
     "text": [
      "The median male salary is $120000.0\n",
      "The median female salary is $105000.0\n",
      "The median salary difference is + $15000.0 towards the male \n",
      "\n"
     ]
    }
   ],
   "source": [
    "median_female_salary = salary_df[salary_df[\"Gender\"] == \"Female\"].Salary.median() \n",
    "median_male_salary = salary_df[salary_df[\"Gender\"] == \"Male\"].Salary.median()\n",
    "\n",
    "print(f\"The median male salary is ${round(median_male_salary, 2)}\")\n",
    "print(f\"The median female salary is ${round(median_female_salary, 2)}\")\n",
    "mean_salary_diff = round(median_male_salary - median_female_salary,2)\n",
    "\n",
    "print(f\"The median salary difference is + ${mean_salary_diff} towards the male\", '\\n')"
   ]
  }
 ],
 "metadata": {
  "kernelspec": {
   "display_name": "Python 3",
   "language": "python",
   "name": "python3"
  },
  "language_info": {
   "codemirror_mode": {
    "name": "ipython",
    "version": 3
   },
   "file_extension": ".py",
   "mimetype": "text/x-python",
   "name": "python",
   "nbconvert_exporter": "python",
   "pygments_lexer": "ipython3",
   "version": "3.9.6"
  }
 },
 "nbformat": 4,
 "nbformat_minor": 2
}
