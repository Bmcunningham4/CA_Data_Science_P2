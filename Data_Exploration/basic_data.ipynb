{
 "cells": [
  {
   "cell_type": "code",
   "execution_count": 42,
   "metadata": {},
   "outputs": [],
   "source": [
    "import pandas as pd\n",
    "from tabulate import tabulate \n",
    "\n",
    "salary_df = pd.read_csv(\"Salary.csv\")"
   ]
  },
  {
   "cell_type": "code",
   "execution_count": 43,
   "metadata": {},
   "outputs": [
    {
     "name": "stdout",
     "output_type": "stream",
     "text": [
      "The mean salary difference for a male compared to a female is: + $13507  \n",
      "\n",
      "The median salary difference for a male compared to a female is: + $15000 \n",
      "\n"
     ]
    }
   ],
   "source": [
    "\n",
    "#! mean\n",
    "mean_female_salary = round(salary_df[salary_df[\"Gender\"] == \"Female\"].Salary.mean()) \n",
    "mean_male_salary = round(salary_df[salary_df[\"Gender\"] == \"Male\"].Salary.mean())\n",
    "mean_salary_diff = round(mean_male_salary - mean_female_salary)\n",
    "\n",
    "print(f\"The mean salary difference for a male compared to a female is: + ${mean_salary_diff} \", '\\n')\n",
    "\n",
    "#! Median\n",
    "median_female_salary = round(salary_df[salary_df[\"Gender\"] == \"Female\"].Salary.median())\n",
    "median_male_salary = round(salary_df[salary_df[\"Gender\"] == \"Male\"].Salary.median())\n",
    "mean_salary_diff = round(median_male_salary - median_female_salary)\n",
    "\n",
    "print(f\"The median salary difference for a male compared to a female is: + ${mean_salary_diff}\", '\\n')\n",
    "\n",
    "#! Range\n",
    "min_female_salary = salary_df[salary_df.Gender == \"Female\"].Salary.min() \n",
    "max_female_salary = salary_df[salary_df.Gender == \"Female\"].Salary.max()\n",
    "range_female_salary = max_female_salary - min_female_salary\n",
    "\n",
    "min_male_salary = salary_df[salary_df.Gender == \"Male\"].Salary.min() \n",
    "max_male_salary = salary_df[salary_df.Gender == \"Male\"].Salary.max()\n",
    "range_male_salary = max_male_salary - min_male_salary\n",
    "\n",
    "#! Standard Deviation\n",
    "std_female_salary = round(salary_df[salary_df.Gender == \"Female\"].Salary.std())\n",
    "std_male_salary = round(salary_df[salary_df.Gender == \"Male\"].Salary.std())"
   ]
  },
  {
   "cell_type": "code",
   "execution_count": 44,
   "metadata": {},
   "outputs": [
    {
     "name": "stdout",
     "output_type": "stream",
     "text": [
      "╒══════════════════╤═════════╤══════════╕\n",
      "│ Salary Metrics   │ Male    │ Female   │\n",
      "╞══════════════════╪═════════╪══════════╡\n",
      "│ Mean             │ 121,396 │ 107,889  │\n",
      "├──────────────────┼─────────┼──────────┤\n",
      "│ Median           │ 120,000 │ 105,000  │\n",
      "├──────────────────┼─────────┼──────────┤\n",
      "│ STD              │ 52,099  │ 52,724   │\n",
      "├──────────────────┼─────────┼──────────┤\n",
      "│ Max              │ 250,000 │ 220,000  │\n",
      "├──────────────────┼─────────┼──────────┤\n",
      "│ Min              │ 350     │ 500      │\n",
      "├──────────────────┼─────────┼──────────┤\n",
      "│ Range            │ 249,650 │ 219,500  │\n",
      "╘══════════════════╧═════════╧══════════╛\n"
     ]
    }
   ],
   "source": [
    "\n",
    "table_data = [\n",
    "    [\"Mean\", mean_male_salary, mean_female_salary],\n",
    "    [\"Median\", median_male_salary, median_female_salary],\n",
    "    [\"STD\", std_male_salary, std_female_salary],\n",
    "    [\"Max\", max_male_salary, max_female_salary],\n",
    "    [\"Min\", min_male_salary, min_female_salary],\n",
    "    [\"Range\", range_male_salary, range_female_salary]\n",
    "]\n",
    "\n",
    "def table_creator(table_data):\n",
    "    formatted_table_data = []\n",
    "    headers_list = [\"Salary Metrics\", \"Male\", \"Female\"]\n",
    "\n",
    "    for row in table_data:\n",
    "        formatted_row = []\n",
    "        for value in row:\n",
    "            if isinstance(value, (int, float)):\n",
    "                formatted_value = f\"{round(value):,.0f}\"  \n",
    "            elif isinstance(value, str):\n",
    "                formatted_value = value  \n",
    "            else:\n",
    "                formatted_value = str(value)  \n",
    "            formatted_row.append(formatted_value)\n",
    "        formatted_table_data.append(formatted_row)\n",
    "\n",
    "    table = tabulate(formatted_table_data, headers_list, tablefmt=\"fancy_grid\")\n",
    "    return table\n",
    "\n",
    "table1 = table_creator(table_data)\n",
    "print(table1)\n",
    "\n",
    "\n"
   ]
  },
  {
   "cell_type": "markdown",
   "metadata": {},
   "source": [
    "## Lets Discuss my findings!!!"
   ]
  }
 ],
 "metadata": {
  "kernelspec": {
   "display_name": "Python 3",
   "language": "python",
   "name": "python3"
  },
  "language_info": {
   "codemirror_mode": {
    "name": "ipython",
    "version": 3
   },
   "file_extension": ".py",
   "mimetype": "text/x-python",
   "name": "python",
   "nbconvert_exporter": "python",
   "pygments_lexer": "ipython3",
   "version": "3.9.6"
  }
 },
 "nbformat": 4,
 "nbformat_minor": 2
}
