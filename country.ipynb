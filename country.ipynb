{
 "cells": [
  {
   "cell_type": "code",
   "execution_count": 1,
   "metadata": {},
   "outputs": [],
   "source": [
    "import pandas as pd\n",
    "salary_df = pd.read_csv(\"Salary.csv\") \n",
    "male_df = salary_df[salary_df.Gender == \"Male\"]\n",
    "female_df = salary_df[salary_df.Gender == \"Female\"]"
   ]
  },
  {
   "cell_type": "code",
   "execution_count": 4,
   "metadata": {},
   "outputs": [
    {
     "name": "stdout",
     "output_type": "stream",
     "text": [
      "5\n",
      "UK\n",
      "USA\n",
      "Canada\n",
      "China\n",
      "Australia\n",
      "1332 1356 1322 1339 1335\n"
     ]
    }
   ],
   "source": [
    "\n",
    "#? This is gonna be similar to the job titles one where I'm gonna have to pick a few or categorise them based on how many diff ones there are..\n",
    "diff_countrys_count = salary_df.Country.nunique()\n",
    "print(diff_countrys_count)\n",
    "\n",
    "diff_countrys = salary_df.Country.unique()\n",
    "for country in diff_countrys:\n",
    "    print(country) #* OHHH perfect they only surveyed 5 diff countries: UK, USA, Canada, China, Australia\n",
    "\n",
    "#? Quickly checking the count of each..\n",
    "uk_count = salary_df[salary_df.Country == \"UK\"].Salary.count()\n",
    "usa_count = salary_df[salary_df.Country == \"USA\"].Salary.count()\n",
    "canada_count = salary_df[salary_df.Country == \"Canada\"].Salary.count()\n",
    "china_count = salary_df[salary_df.Country == \"China\"].Salary.count()\n",
    "australia_count = salary_df[salary_df.Country == \"Australia\"].Salary.count()\n",
    "\n",
    "print(uk_count, usa_count, canada_count, china_count, australia_count) #* Nice even sample of each..."
   ]
  },
  {
   "cell_type": "code",
   "execution_count": 8,
   "metadata": {},
   "outputs": [
    {
     "name": "stdout",
     "output_type": "stream",
     "text": [
      "122206.37 108456.69\n",
      "120000.0 105000.0\n",
      "53064.92 52096.87\n",
      "120000.0 105000.0\n"
     ]
    }
   ],
   "source": [
    "\n",
    "#! Mean\n",
    "male_UK_mean = round(male_df[male_df.Country == \"UK\"].Salary.mean(), 2)\n",
    "male_USA_mean = round(male_df[male_df.Country == \"USA\"].Salary.mean(), 2)\n",
    "male_Canada_mean = round(male_df[male_df.Country == \"Canada\"].Salary.mean(), 2)\n",
    "male_China_mean = round(male_df[male_df.Country == \"China\"].Salary.mean(), 2)\n",
    "male_Australia_mean = round(male_df[male_df.Country == \"Australia\"].Salary.mean(), 2)\n",
    "\n",
    "female_UK_mean = round(female_df[female_df.Country == \"UK\"].Salary.mean(), 2)\n",
    "female_USA_mean = round(female_df[female_df.Country == \"USA\"].Salary.mean(), 2)\n",
    "female_Canada_mean = round(female_df[female_df.Country == \"Canada\"].Salary.mean(), 2)\n",
    "female_China_mean = round(female_df[female_df.Country == \"China\"].Salary.mean(), 2)\n",
    "female_Australia_mean = round(female_df[female_df.Country == \"Australia\"].Salary.mean(), 2)\n",
    "\n",
    "print(male_UK_mean, female_UK_mean)\n",
    "\n",
    "#! Median\n",
    "male_UK_median = round(male_df[male_df.Country == \"UK\"].Salary.median(), 2)\n",
    "male_USA_median = round(male_df[male_df.Country == \"USA\"].Salary.median(), 2)\n",
    "male_Canada_median = round(male_df[male_df.Country == \"Canada\"].Salary.median(), 2)\n",
    "male_China_median = round(male_df[male_df.Country == \"China\"].Salary.median(), 2)\n",
    "male_Australia_median = round(male_df[male_df.Country == \"Australia\"].Salary.median(), 2)\n",
    "\n",
    "female_UK_median = round(female_df[female_df.Country == \"UK\"].Salary.median(), 2)\n",
    "female_USA_median = round(female_df[female_df.Country == \"USA\"].Salary.median(), 2)\n",
    "female_Canada_median = round(female_df[female_df.Country == \"Canada\"].Salary.median(), 2)\n",
    "female_China_median = round(female_df[female_df.Country == \"China\"].Salary.median(), 2)\n",
    "female_Australia_median = round(female_df[female_df.Country == \"Australia\"].Salary.median(), 2)\n",
    "\n",
    "print(male_UK_median, female_UK_median)\n",
    "\n",
    "#! std\n",
    "male_UK_std = round(male_df[male_df.Country == \"UK\"].Salary.std(), 2)\n",
    "male_USA_std = round(male_df[male_df.Country == \"USA\"].Salary.std(), 2)\n",
    "male_Canada_std = round(male_df[male_df.Country == \"Canada\"].Salary.std(), 2)\n",
    "male_China_std = round(male_df[male_df.Country == \"China\"].Salary.std(), 2)\n",
    "male_Australia_std = round(male_df[male_df.Country == \"Australia\"].Salary.std(), 2)\n",
    "\n",
    "female_UK_std = round(female_df[female_df.Country == \"UK\"].Salary.std(), 2)\n",
    "female_USA_std = round(female_df[female_df.Country == \"USA\"].Salary.std(), 2)\n",
    "female_Canada_std = round(female_df[female_df.Country == \"Canada\"].Salary.std(), 2)\n",
    "female_China_std = round(female_df[female_df.Country == \"China\"].Salary.std(), 2)\n",
    "female_Australia_std = round(female_df[female_df.Country == \"Australia\"].Salary.std(), 2)\n",
    "\n",
    "print(male_UK_std, female_UK_std)\n",
    "\n",
    "#! Range\n",
    "# Max\n",
    "male_UK_max = round(male_df[male_df.Country == \"UK\"].Salary.max(), 2)\n",
    "male_USA_max = round(male_df[male_df.Country == \"USA\"].Salary.max(), 2)\n",
    "male_Canada_max = round(male_df[male_df.Country == \"Canada\"].Salary.max(), 2)\n",
    "male_China_max = round(male_df[male_df.Country == \"China\"].Salary.max(), 2)\n",
    "male_Australia_max = round(male_df[male_df.Country == \"Australia\"].Salary.max(), 2)\n",
    "\n",
    "female_UK_max = round(female_df[female_df.Country == \"UK\"].Salary.max(), 2)\n",
    "female_USA_max = round(female_df[female_df.Country == \"USA\"].Salary.max(), 2)\n",
    "female_Canada_max = round(female_df[female_df.Country == \"Canada\"].Salary.max(), 2)\n",
    "female_China_max = round(female_df[female_df.Country == \"China\"].Salary.max(), 2)\n",
    "female_Australia_max = round(female_df[female_df.Country == \"Australia\"].Salary.max(), 2)\n",
    "\n",
    "print(male_UK_max, female_UK_max)\n",
    "\n",
    "# Min\n",
    "male_UK_min = round(male_df[male_df.Country == \"UK\"].Salary.min(), 2)\n",
    "male_USA_min = round(male_df[male_df.Country == \"USA\"].Salary.min(), 2)\n",
    "male_Canada_min = round(male_df[male_df.Country == \"Canada\"].Salary.min(), 2)\n",
    "male_China_min = round(male_df[male_df.Country == \"China\"].Salary.min(), 2)\n",
    "male_Australia_min = round(male_df[male_df.Country == \"Australia\"].Salary.min(), 2)\n",
    "\n",
    "female_UK_min = round(female_df[female_df.Country == \"UK\"].Salary.min(), 2)\n",
    "female_USA_min = round(female_df[female_df.Country == \"USA\"].Salary.min(), 2)\n",
    "female_Canada_min = round(female_df[female_df.Country == \"Canada\"].Salary.min(), 2)\n",
    "female_China_min = round(female_df[female_df.Country == \"China\"].Salary.min(), 2)\n",
    "female_Australia_min = round(female_df[female_df.Country == \"Australia\"].Salary.min(), 2)\n",
    "\n",
    "print(male_UK_min, female_UK_min)\n",
    "\n",
    "# Range #todo Finish this crap quickly..\n",
    "male_UK_diff = male_UK_max - male_UK_min\n",
    "male_UK_diff = male_UK_max - male_UK_min\n",
    "male_UK_diff = male_UK_max - male_UK_min\n",
    "male_UK_diff = male_UK_max - male_UK_min\n",
    "male_UK_diff = male_UK_max - male_UK_min\n",
    "\n",
    "female_UK_diff = female_UK_max - female_UK_min\n",
    "female_UK_diff = female_UK_max - female_UK_min\n",
    "female_UK_diff = female_UK_max - female_UK_min\n",
    "female_UK_diff = female_UK_max - female_UK_min\n",
    "female_UK_diff = female_UK_max - female_UK_min"
   ]
  }
 ],
 "metadata": {
  "kernelspec": {
   "display_name": "Python 3",
   "language": "python",
   "name": "python3"
  },
  "language_info": {
   "codemirror_mode": {
    "name": "ipython",
    "version": 3
   },
   "file_extension": ".py",
   "mimetype": "text/x-python",
   "name": "python",
   "nbconvert_exporter": "python",
   "pygments_lexer": "ipython3",
   "version": "3.9.6"
  }
 },
 "nbformat": 4,
 "nbformat_minor": 2
}
