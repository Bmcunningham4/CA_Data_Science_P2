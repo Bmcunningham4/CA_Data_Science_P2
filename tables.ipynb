{
 "cells": [
  {
   "cell_type": "code",
   "execution_count": null,
   "metadata": {},
   "outputs": [],
   "source": [
    "\n",
    "#? Ok I think I'm actually gonna do a tidy up of all my code, as I was typing this I realised that would be stupid but I'"
   ]
  },
  {
   "cell_type": "code",
   "execution_count": 3,
   "metadata": {},
   "outputs": [
    {
     "name": "stdout",
     "output_type": "stream",
     "text": [
      "╒═════════╤═══════╤══════════════╕\n",
      "│ Name    │   Age │ Occupation   │\n",
      "╞═════════╪═══════╪══════════════╡\n",
      "│ Alice   │    24 │ Engineer     │\n",
      "├─────────┼───────┼──────────────┤\n",
      "│ Bob     │    30 │ Designer     │\n",
      "├─────────┼───────┼──────────────┤\n",
      "│ Charlie │    28 │ Developer    │\n",
      "╘═════════╧═══════╧══════════════╛\n"
     ]
    }
   ],
   "source": [
    "from tabulate import tabulate\n",
    "data = [\n",
    "    [\"Alice\", 24, \"Engineer\"],\n",
    "    [\"Bob\", 30, \"Designer\"],\n",
    "    [\"Charlie\", 28, \"Developer\"],\n",
    "]\n",
    "\n",
    "# Table headers\n",
    "headers = [\"Name\", \"Age\", \"Occupation\"]\n",
    "\n",
    "# Create the table using tabulate\n",
    "table = tabulate(data, headers, tablefmt=\"fancy_grid\")\n",
    "\n",
    "# Print the table\n",
    "print(table)"
   ]
  },
  {
   "cell_type": "code",
   "execution_count": 4,
   "metadata": {},
   "outputs": [
    {
     "name": "stdout",
     "output_type": "stream",
     "text": [
      "\n",
      "Table from prettytable:\n",
      "+---------+-----+------------+\n",
      "|   Name  | Age | Occupation |\n",
      "+---------+-----+------------+\n",
      "|  Alice  |  24 |  Engineer  |\n",
      "|   Bob   |  30 |  Designer  |\n",
      "| Charlie |  28 | Developer  |\n",
      "+---------+-----+------------+\n"
     ]
    }
   ],
   "source": [
    "from prettytable import PrettyTable\n",
    "\n",
    "#! Okkk so what I've learned from this is tabulate shits on pretty tables...\n",
    "\n",
    "# Example data for the table\n",
    "data = [\n",
    "    [\"Alice\", 24, \"Engineer\"],\n",
    "    [\"Bob\", 30, \"Designer\"],\n",
    "    [\"Charlie\", 28, \"Developer\"],\n",
    "]\n",
    "\n",
    "# Table headers\n",
    "headers = [\"Name\", \"Age\", \"Occupation\"]\n",
    "\n",
    "# Create the table using prettytable\n",
    "table_prettytable = PrettyTable()\n",
    "table_prettytable.field_names = headers\n",
    "for row in data:\n",
    "    table_prettytable.add_row(row)\n",
    "\n",
    "# Print the table from prettytable\n",
    "print(\"\\nTable from prettytable:\")\n",
    "print(table_prettytable)\n"
   ]
  }
 ],
 "metadata": {
  "kernelspec": {
   "display_name": "Python 3",
   "language": "python",
   "name": "python3"
  },
  "language_info": {
   "codemirror_mode": {
    "name": "ipython",
    "version": 3
   },
   "file_extension": ".py",
   "mimetype": "text/x-python",
   "name": "python",
   "nbconvert_exporter": "python",
   "pygments_lexer": "ipython3",
   "version": "3.9.6"
  }
 },
 "nbformat": 4,
 "nbformat_minor": 2
}
