{
 "cells": [
  {
   "cell_type": "code",
   "execution_count": 2,
   "metadata": {},
   "outputs": [],
   "source": [
    "import pandas as pd\n",
    "salary_df = pd.read_csv(\"Salary.csv\") #! Maybe instead of importing these from csv every time import from a diff file, but I guess that's the same thing..\n",
    "male_df = salary_df[salary_df.Gender == \"Male\"]\n",
    "female_df = salary_df[salary_df.Gender == \"Female\"]\n",
    "\n",
    "#? Another day another dollar.. Just have Country and race after this probably don't need to both.. but might be interesting to compare the 2.."
   ]
  },
  {
   "cell_type": "code",
   "execution_count": 13,
   "metadata": {},
   "outputs": [
    {
     "name": "stdout",
     "output_type": "stream",
     "text": [
      "0.0 34.0\n"
     ]
    }
   ],
   "source": [
    "\n",
    "#? Need to come up with a way to group years of experience like age.. eg 0-5, 5-10 etc...\n",
    "years_exp_max = salary_df[\"Years of Experience\"].max()\n",
    "years_exp_min = salary_df[\"Years of Experience\"].min()\n",
    "print(years_exp_min, years_exp_max)\n",
    "\n",
    "#? potentially based off that 0-4, 5-10, 11-20, 20+ "
   ]
  },
  {
   "cell_type": "code",
   "execution_count": 21,
   "metadata": {},
   "outputs": [
    {
     "name": "stdout",
     "output_type": "stream",
     "text": [
      "169187.84 162316.74\n",
      "170000.0 160000.0\n",
      "24707.88 30089.92\n",
      "220000.0 220000.0\n",
      "80000.0 60000.0\n",
      "145000.0 150000.0\n"
     ]
    }
   ],
   "source": [
    "\n",
    "#! Mean \n",
    "male_0_4_years_mean = round(male_df[(male_df[\"Years of Experience\"] > -1) & (male_df[\"Years of Experience\"] < 5)].Salary.mean(), 2)\n",
    "male_5_10_years_mean = round(male_df[(male_df[\"Years of Experience\"] > 4) & (male_df[\"Years of Experience\"] < 11)].Salary.mean(), 2)\n",
    "male_11_20_years_mean = round(male_df[(male_df[\"Years of Experience\"] > 10) & (male_df[\"Years of Experience\"] < 21)].Salary.mean(), 2)\n",
    "male_20_plus_years_mean = round(male_df[(male_df[\"Years of Experience\"] > 19) & (male_df[\"Years of Experience\"] < 100)].Salary.mean(), 2)\n",
    "\n",
    "female_0_4_years_mean = round(female_df[(female_df[\"Years of Experience\"] > -1) & (female_df[\"Years of Experience\"] < 5)].Salary.mean(), 2)\n",
    "female_5_10_years_mean = round(female_df[(female_df[\"Years of Experience\"] > 4) & (female_df[\"Years of Experience\"] < 11)].Salary.mean(), 2)\n",
    "female_11_20_years_mean = round(female_df[(female_df[\"Years of Experience\"] > 10) & (female_df[\"Years of Experience\"] < 21)].Salary.mean(), 2)\n",
    "female_20_plus_years_mean = round(female_df[(female_df[\"Years of Experience\"] > 19) & (female_df[\"Years of Experience\"] < 100)].Salary.mean(), 2)\n",
    "\n",
    "print(male_11_20_years_mean, female_11_20_years_mean)\n",
    "\n",
    "#! Median\n",
    "male_0_4_years_median = round(male_df[(male_df[\"Years of Experience\"] > -1) & (male_df[\"Years of Experience\"] < 5)].Salary.median(), 2)\n",
    "male_5_10_years_median = round(male_df[(male_df[\"Years of Experience\"] > 4) & (male_df[\"Years of Experience\"] < 11)].Salary.median(), 2)\n",
    "male_11_20_years_median = round(male_df[(male_df[\"Years of Experience\"] > 10) & (male_df[\"Years of Experience\"] < 21)].Salary.median(), 2)\n",
    "male_20_plus_years_median = round(male_df[(male_df[\"Years of Experience\"] > 19) & (male_df[\"Years of Experience\"] < 100)].Salary.median(), 2)\n",
    "\n",
    "female_0_4_years_median = round(female_df[(female_df[\"Years of Experience\"] > -1) & (female_df[\"Years of Experience\"] < 5)].Salary.median(), 2)\n",
    "female_5_10_years_median = round(female_df[(female_df[\"Years of Experience\"] > 4) & (female_df[\"Years of Experience\"] < 11)].Salary.median(), 2)\n",
    "female_11_20_years_median = round(female_df[(female_df[\"Years of Experience\"] > 10) & (female_df[\"Years of Experience\"] < 21)].Salary.median(), 2)\n",
    "female_20_plus_years_median = round(female_df[(female_df[\"Years of Experience\"] > 19) & (female_df[\"Years of Experience\"] < 100)].Salary.median(), 2)\n",
    "\n",
    "print(male_11_20_years_median, female_11_20_years_median)\n",
    "\n",
    "#! STD \n",
    "male_0_4_years_std = round(male_df[(male_df[\"Years of Experience\"] > -1) & (male_df[\"Years of Experience\"] < 5)].Salary.std(), 2)\n",
    "male_5_10_years_std = round(male_df[(male_df[\"Years of Experience\"] > 4) & (male_df[\"Years of Experience\"] < 11)].Salary.std(), 2)\n",
    "male_11_20_years_std = round(male_df[(male_df[\"Years of Experience\"] > 10) & (male_df[\"Years of Experience\"] < 21)].Salary.std(), 2)\n",
    "male_20_plus_years_std = round(male_df[(male_df[\"Years of Experience\"] > 19) & (male_df[\"Years of Experience\"] < 100)].Salary.std(), 2)\n",
    "\n",
    "female_0_4_years_std = round(female_df[(female_df[\"Years of Experience\"] > -1) & (female_df[\"Years of Experience\"] < 5)].Salary.std(), 2)\n",
    "female_5_10_years_std = round(female_df[(female_df[\"Years of Experience\"] > 4) & (female_df[\"Years of Experience\"] < 11)].Salary.std(), 2)\n",
    "female_11_20_years_std = round(female_df[(female_df[\"Years of Experience\"] > 10) & (female_df[\"Years of Experience\"] < 21)].Salary.std(), 2)\n",
    "female_20_plus_years_std = round(female_df[(female_df[\"Years of Experience\"] > 19) & (female_df[\"Years of Experience\"] < 100)].Salary.std(), 2)\n",
    "\n",
    "print(male_11_20_years_std, female_11_20_years_std)\n",
    "\n",
    "#! Range\n",
    "# Max\n",
    "male_0_4_years_max = round(male_df[(male_df[\"Years of Experience\"] > -1) & (male_df[\"Years of Experience\"] < 5)].Salary.max(), 2)\n",
    "male_5_10_years_max = round(male_df[(male_df[\"Years of Experience\"] > 4) & (male_df[\"Years of Experience\"] < 11)].Salary.max(), 2)\n",
    "male_11_20_years_max = round(male_df[(male_df[\"Years of Experience\"] > 10) & (male_df[\"Years of Experience\"] < 21)].Salary.max(), 2)\n",
    "male_20_plus_years_max = round(male_df[(male_df[\"Years of Experience\"] > 19) & (male_df[\"Years of Experience\"] < 100)].Salary.max(), 2)\n",
    "\n",
    "female_0_4_years_max = round(female_df[(female_df[\"Years of Experience\"] > -1) & (female_df[\"Years of Experience\"] < 5)].Salary.max(), 2)\n",
    "female_5_10_years_max = round(female_df[(female_df[\"Years of Experience\"] > 4) & (female_df[\"Years of Experience\"] < 11)].Salary.max(), 2)\n",
    "female_11_20_years_max = round(female_df[(female_df[\"Years of Experience\"] > 10) & (female_df[\"Years of Experience\"] < 21)].Salary.max(), 2)\n",
    "female_20_plus_years_max = round(female_df[(female_df[\"Years of Experience\"] > 19) & (female_df[\"Years of Experience\"] < 100)].Salary.max(), 2)\n",
    "\n",
    "print(male_11_20_years_max, female_11_20_years_max)\n",
    "\n",
    "# Min\n",
    "male_0_4_years_min = round(male_df[(male_df[\"Years of Experience\"] > -1) & (male_df[\"Years of Experience\"] < 5)].Salary.min(), 2)\n",
    "male_5_10_years_min = round(male_df[(male_df[\"Years of Experience\"] > 4) & (male_df[\"Years of Experience\"] < 11)].Salary.min(), 2)\n",
    "male_11_20_years_min = round(male_df[(male_df[\"Years of Experience\"] > 10) & (male_df[\"Years of Experience\"] < 21)].Salary.min(), 2)\n",
    "male_20_plus_years_min = round(male_df[(male_df[\"Years of Experience\"] > 19) & (male_df[\"Years of Experience\"] < 100)].Salary.min(), 2)\n",
    "\n",
    "female_0_4_years_min = round(female_df[(female_df[\"Years of Experience\"] > -1) & (female_df[\"Years of Experience\"] < 5)].Salary.min(), 2)\n",
    "female_5_10_years_min = round(female_df[(female_df[\"Years of Experience\"] > 4) & (female_df[\"Years of Experience\"] < 11)].Salary.min(), 2)\n",
    "female_11_20_years_min = round(female_df[(female_df[\"Years of Experience\"] > 10) & (female_df[\"Years of Experience\"] < 21)].Salary.min(), 2)\n",
    "female_20_plus_years_min = round(female_df[(female_df[\"Years of Experience\"] > 19) & (female_df[\"Years of Experience\"] < 100)].Salary.min(), 2)\n",
    "\n",
    "print(male_11_20_years_min, female_11_20_years_min)\n",
    "\n",
    "# Range\n",
    "male_0_4_years_diff = male_0_4_years_max - male_0_4_years_min\n",
    "male_5_10_years_diff = male_5_10_years_max - male_5_10_years_min\n",
    "male_11_20_years_diff = male_11_20_years_max - male_11_20_years_min\n",
    "male_20_plus_years_diff = male_20_plus_years_max - male_20_plus_years_min\n",
    "\n",
    "\n",
    "female_0_4_years_diff = female_0_4_years_max - female_0_4_years_min\n",
    "female_5_10_years_diff = female_5_10_years_max - female_5_10_years_min\n",
    "female_11_20_years_diff = female_11_20_years_max - female_11_20_years_min\n",
    "female_20_plus_years_diff = female_20_plus_years_max - female_20_plus_years_min\n",
    "\n",
    "print(male_5_10_years_diff, female_5_10_years_diff)\n",
    "\n",
    "\n",
    "\n"
   ]
  }
 ],
 "metadata": {
  "kernelspec": {
   "display_name": "Python 3",
   "language": "python",
   "name": "python3"
  },
  "language_info": {
   "codemirror_mode": {
    "name": "ipython",
    "version": 3
   },
   "file_extension": ".py",
   "mimetype": "text/x-python",
   "name": "python",
   "nbconvert_exporter": "python",
   "pygments_lexer": "ipython3",
   "version": "3.9.6"
  }
 },
 "nbformat": 4,
 "nbformat_minor": 2
}
