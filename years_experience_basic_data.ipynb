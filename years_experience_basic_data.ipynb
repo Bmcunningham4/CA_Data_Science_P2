{
 "cells": [
  {
   "cell_type": "code",
   "execution_count": null,
   "metadata": {},
   "outputs": [],
   "source": [
    "import pandas as pd\n",
    "salary_df = pd.read_csv(\"Salary.csv\") #! Maybe instead of importing these from csv every time import from a diff file, but I guess that's the same thing..\n",
    "male_df = salary_df[salary_df.Gender == \"Male\"]\n",
    "female_df = salary_df[salary_df.Gender == \"Female\"]\n",
    "\n",
    "#? Another day another dollar.."
   ]
  }
 ],
 "metadata": {
  "language_info": {
   "name": "python"
  }
 },
 "nbformat": 4,
 "nbformat_minor": 2
}
